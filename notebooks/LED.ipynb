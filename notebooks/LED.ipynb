{
 "cells": [
  {
   "cell_type": "code",
   "execution_count": 1,
   "id": "03996d3c-53d0-4189-9342-b1eb3943b2fd",
   "metadata": {},
   "outputs": [],
   "source": [
    "from gpiozero import LED\n",
    "import time\n",
    "\n"
   ]
  },
  {
   "cell_type": "code",
   "execution_count": 2,
   "id": "66e79c0a-f83e-4036-b5e2-95533592cf7b",
   "metadata": {},
   "outputs": [],
   "source": [
    "red_led = LED(25)\n",
    "\n"
   ]
  },
  {
   "cell_type": "code",
   "execution_count": 3,
   "id": "c0355066-f1cf-4953-ae57-e421f2a2f23f",
   "metadata": {
    "tags": []
   },
   "outputs": [],
   "source": [
    "blue_led = LED(23)\n"
   ]
  },
  {
   "cell_type": "code",
   "execution_count": 8,
   "id": "c0aa884a-1c4f-44e6-9acd-6c90fcfdf51c",
   "metadata": {},
   "outputs": [],
   "source": [
    "i = 0\n",
    "while i < 5: \n",
    "    red_led.on()\n",
    "    time.sleep(0.5)\n",
    "    red_led.off()\n",
    "    time.sleep(2.5)\n",
    "    i=i+1"
   ]
  },
  {
   "cell_type": "code",
   "execution_count": 9,
   "id": "d0e9d44e-6f0a-4c16-a844-7e6220ad67d9",
   "metadata": {},
   "outputs": [
    {
     "ename": "KeyboardInterrupt",
     "evalue": "",
     "output_type": "error",
     "traceback": [
      "\u001b[0;31m---------------------------------------------------------------------------\u001b[0m",
      "\u001b[0;31mKeyboardInterrupt\u001b[0m                         Traceback (most recent call last)",
      "\u001b[0;32m/tmp/ipykernel_1989/1585451531.py\u001b[0m in \u001b[0;36m<module>\u001b[0;34m\u001b[0m\n\u001b[1;32m      2\u001b[0m \u001b[0;32mwhile\u001b[0m \u001b[0;32mTrue\u001b[0m\u001b[0;34m:\u001b[0m\u001b[0;34m\u001b[0m\u001b[0;34m\u001b[0m\u001b[0m\n\u001b[1;32m      3\u001b[0m     \u001b[0mblue_led\u001b[0m\u001b[0;34m.\u001b[0m\u001b[0mon\u001b[0m\u001b[0;34m(\u001b[0m\u001b[0;34m)\u001b[0m\u001b[0;34m\u001b[0m\u001b[0;34m\u001b[0m\u001b[0m\n\u001b[0;32m----> 4\u001b[0;31m     \u001b[0mtime\u001b[0m\u001b[0;34m.\u001b[0m\u001b[0msleep\u001b[0m\u001b[0;34m(\u001b[0m\u001b[0;36m1.5\u001b[0m\u001b[0;34m)\u001b[0m\u001b[0;34m\u001b[0m\u001b[0;34m\u001b[0m\u001b[0m\n\u001b[0m\u001b[1;32m      5\u001b[0m     \u001b[0mblue_led\u001b[0m\u001b[0;34m.\u001b[0m\u001b[0moff\u001b[0m\u001b[0;34m(\u001b[0m\u001b[0;34m)\u001b[0m\u001b[0;34m\u001b[0m\u001b[0;34m\u001b[0m\u001b[0m\n\u001b[1;32m      6\u001b[0m     \u001b[0mtime\u001b[0m\u001b[0;34m.\u001b[0m\u001b[0msleep\u001b[0m\u001b[0;34m(\u001b[0m\u001b[0;36m1.5\u001b[0m\u001b[0;34m)\u001b[0m\u001b[0;34m\u001b[0m\u001b[0;34m\u001b[0m\u001b[0m\n",
      "\u001b[0;31mKeyboardInterrupt\u001b[0m: "
     ]
    }
   ],
   "source": [
    "i = 0\n",
    "while i < 5:\n",
    "    blue_led.on()\n",
    "    time.sleep(1.5)\n",
    "    blue_led.off()\n",
    "    time.sleep(1.5)\n",
    "    i=i+1"
   ]
  },
  {
   "cell_type": "code",
   "execution_count": null,
   "id": "ba4715dc-b700-4fa7-b191-afb645ad7296",
   "metadata": {},
   "outputs": [],
   "source": [
    "red_led.off()"
   ]
  },
  {
   "cell_type": "code",
   "execution_count": 10,
   "id": "cecc8800-a050-436e-bf4e-967106c68166",
   "metadata": {},
   "outputs": [],
   "source": [
    "blue_led.off()"
   ]
  },
  {
   "cell_type": "code",
   "execution_count": null,
   "id": "4041d78a-880d-4ae2-bb75-9a99ca96d653",
   "metadata": {},
   "outputs": [],
   "source": []
  },
  {
   "cell_type": "code",
   "execution_count": null,
   "id": "49f2d216-9650-4fb7-817b-081d973f3f9e",
   "metadata": {},
   "outputs": [],
   "source": []
  }
 ],
 "metadata": {
  "kernelspec": {
   "display_name": "Python 3 (ipykernel)",
   "language": "python",
   "name": "python3"
  },
  "language_info": {
   "codemirror_mode": {
    "name": "ipython",
    "version": 3
   },
   "file_extension": ".py",
   "mimetype": "text/x-python",
   "name": "python",
   "nbconvert_exporter": "python",
   "pygments_lexer": "ipython3",
   "version": "3.7.3"
  }
 },
 "nbformat": 4,
 "nbformat_minor": 5
}
