{
 "cells": [
  {
   "cell_type": "markdown",
   "metadata": {
    "id": "Z2ItItpNfKoz"
   },
   "source": [
    "# Einführung in Python\n"
   ]
  },
  {
   "cell_type": "markdown",
   "metadata": {
    "id": "lBW6ARaLfdNx"
   },
   "source": [
    "Willkommen zur ersten Übung!\n",
    "\n",
    "Das Ziel unserer ersten Übung ist das Kennenlernen der Programmiersprache Python.\n",
    "\n",
    "Wir verwenden dafür Jupyter notebooks. Jupyter Notebooks, wie dieses hier, sind besondere interaktive Dateien mit denen man im Webbrowser programmieren kann!\n",
    "In Jupyter Notebooks kann man Textzellen und Codezellen erstellen und den Code in letzteren ausführen. Du kannst eine Zelle erstellen indem du das *Einfügen* Menü verwendest oder den Mauszeiger nach einer bestehenden Zelle in der Mitte des Bildschirms platzierst. Um eine Zelle auszuführen und das Resultat der darin geschriebenen Codes zu erhalten kannst du auf den *Play* Button links von der Zelle klicken. Du kannst eine Zelle auch ausführen indem du sie auswählst und Umschalt+Eingabe (Shift+Enter) drückst. In diesem Fall wird im Anschluss direkt die nächste Zelle ausgewählt oder eine neue erstellt. Weitere Tastaturkürzel könnt ihr im *Tools* Menü finden (wo ihr auch eigene erstellen könnt).\n",
    "\n",
    "\n",
    "Credits: \n",
    "Dieses Tutorial wurde freundlicherweise von Karla J. Pena Rodriguez (Konzept adaptiert von s.u.) und Karim El Morabit (Übersetzung, etc.) zur Verwendung bereit gestellt.\n",
    "(This tutorial was inspired by the corresponding section of the [Django Girls Tutorial](https://tutorial.djangogirls.org/en/python_introduction/).)\n"
   ]
  },
  {
   "cell_type": "markdown",
   "metadata": {
    "id": "PZgsVO0inuoX"
   },
   "source": [
    "# Zahlen"
   ]
  },
  {
   "cell_type": "markdown",
   "metadata": {
    "id": "laVllOCFn2ty"
   },
   "source": [
    "Fangen wir mit etwas Mathe an. Z.B.\n"
   ]
  },
  {
   "cell_type": "code",
   "execution_count": 1,
   "metadata": {
    "id": "r_IWN0O1gGbX"
   },
   "outputs": [
    {
     "data": {
      "text/plain": [
       "5"
      ]
     },
     "execution_count": 1,
     "metadata": {},
     "output_type": "execute_result"
    }
   ],
   "source": [
    "2+3"
   ]
  },
  {
   "cell_type": "markdown",
   "metadata": {
    "id": "IRflg2I-hTYd"
   },
   "source": [
    "Super! Wir können also Zahlen addieren. Versuchen wir mal ein paar andere Befehle:"
   ]
  },
  {
   "cell_type": "code",
   "execution_count": 2,
   "metadata": {
    "id": "b4vO_rKIDn4o"
   },
   "outputs": [
    {
     "data": {
      "text/plain": [
       "4"
      ]
     },
     "execution_count": 2,
     "metadata": {},
     "output_type": "execute_result"
    }
   ],
   "source": [
    "5-1"
   ]
  },
  {
   "cell_type": "code",
   "execution_count": 3,
   "metadata": {
    "id": "cNIX4P1SFAxW"
   },
   "outputs": [
    {
     "data": {
      "text/plain": [
       "20"
      ]
     },
     "execution_count": 3,
     "metadata": {},
     "output_type": "execute_result"
    }
   ],
   "source": [
    "4*5"
   ]
  },
  {
   "cell_type": "code",
   "execution_count": 4,
   "metadata": {
    "id": "QWOxjQvOFAfC"
   },
   "outputs": [
    {
     "data": {
      "text/plain": [
       "13.333333333333334"
      ]
     },
     "execution_count": 4,
     "metadata": {},
     "output_type": "execute_result"
    }
   ],
   "source": [
    "40/3"
   ]
  },
  {
   "cell_type": "markdown",
   "metadata": {
    "id": "MP44czcqokB6"
   },
   "source": [
    "Um ein Exponential zu bilden, zum Beispiel 2 hoch 3, schreiben wir einfach:"
   ]
  },
  {
   "cell_type": "code",
   "execution_count": 6,
   "metadata": {
    "id": "kO_eWp7JFHH_"
   },
   "outputs": [
    {
     "name": "stdout",
     "output_type": "stream",
     "text": [
      "2\n"
     ]
    },
    {
     "data": {
      "text/plain": [
       "8"
      ]
     },
     "execution_count": 6,
     "metadata": {},
     "output_type": "execute_result"
    }
   ],
   "source": [
    "print(1+1)\n",
    "2**3"
   ]
  },
  {
   "cell_type": "markdown",
   "metadata": {
    "id": "KZqbiTfDook1"
   },
   "source": [
    "Warum probierst du hier nicht noch ein paar Rechnungen aus. Denke daran, dass wir ganz einfach neue Zellen erstellen können. Wir können auch zurück zu bereits ausgeführten Zellen gehen und diese nochmal ausführen. Und wir können Zellen bearbeiten und nach der Bearbeitung nochmals ausführen."
   ]
  },
  {
   "cell_type": "code",
   "execution_count": null,
   "metadata": {
    "id": "YKhcgYiIiOgk"
   },
   "outputs": [],
   "source": []
  },
  {
   "cell_type": "markdown",
   "metadata": {
    "id": "MGcYlf8Do1RC"
   },
   "source": [
    "# Strings"
   ]
  },
  {
   "cell_type": "markdown",
   "metadata": {
    "id": "KXItFRFhi6XJ"
   },
   "source": [
    "Kommt Python auch mit anderen Dingen als Zahlen klar? Lass es uns herausfinden!"
   ]
  },
  {
   "cell_type": "code",
   "execution_count": 7,
   "metadata": {
    "id": "bOo6ya-6jJjs"
   },
   "outputs": [
    {
     "data": {
      "text/plain": [
       "'Ola'"
      ]
     },
     "execution_count": 7,
     "metadata": {},
     "output_type": "execute_result"
    }
   ],
   "source": [
    "\"Ola\""
   ]
  },
  {
   "cell_type": "markdown",
   "metadata": {
    "id": "YdN7krPfjQGh"
   },
   "source": [
    "Wir haben hier unseren ersten *String* erstellt. Ein String ist eine Folge von Zeichen (Buchstaben, Ziffern, Sonderzeichen...) die von Computern verarbeitet werden kann. Wir sagen Python das eine Zeichenfolge ein String ist indem wir sie mit einfachen `'` oder doppelten `\"` Anführungszeichen beginnen und beenden. Welche der beiden Anführungszeichen wir verwenden macht keinen Unterschied. Aber es müssen vorne und hinten die gleichen sein!\n",
    "\n",
    "Wir können Strings auch aneinanderhängen:"
   ]
  },
  {
   "cell_type": "code",
   "execution_count": 8,
   "metadata": {
    "id": "eA59lsfikA9W"
   },
   "outputs": [
    {
     "data": {
      "text/plain": [
       "'Hi there Ola'"
      ]
     },
     "execution_count": 8,
     "metadata": {},
     "output_type": "execute_result"
    }
   ],
   "source": [
    "\n",
    "\n",
    "\"Hi there \" + \"Ola\""
   ]
  },
  {
   "cell_type": "markdown",
   "metadata": {
    "id": "SzpAGTM1kDzK"
   },
   "source": [
    "Wir können Strings sogar mit Zahlen multiplizieren!"
   ]
  },
  {
   "cell_type": "code",
   "execution_count": 9,
   "metadata": {
    "id": "KjbyXE0zkBuR"
   },
   "outputs": [
    {
     "data": {
      "text/plain": [
       "'hahaha'"
      ]
     },
     "execution_count": 9,
     "metadata": {},
     "output_type": "execute_result"
    }
   ],
   "source": [
    "\"ha\" * 3"
   ]
  },
  {
   "cell_type": "markdown",
   "metadata": {
    "id": "D8xtCQzbkeKd"
   },
   "source": [
    "Falls wir einen Apostroph oder Anführungszeichen innerhalb eines Strings verwenden wollen haben wir 2 Optionen:\n",
    "\n",
    "1.   Wir verwenden die jeweils anderen Anführungszeichen um den String zu definieren:"
   ]
  },
  {
   "cell_type": "code",
   "execution_count": 10,
   "metadata": {
    "id": "Ap_KXChZkUyg"
   },
   "outputs": [
    {
     "data": {
      "text/plain": [
       "\"Runnin' down the hill\""
      ]
     },
     "execution_count": 10,
     "metadata": {},
     "output_type": "execute_result"
    }
   ],
   "source": [
    "\"Runnin' down the hill\""
   ]
  },
  {
   "cell_type": "markdown",
   "metadata": {
    "id": "_HHuB6NRFg9-"
   },
   "source": [
    "\n",
    "2.   Wir *Escapen* den Apostroph (das Anführungszeichen) mit einem Backslash (`\\`):"
   ]
  },
  {
   "cell_type": "code",
   "execution_count": 11,
   "metadata": {
    "id": "7Z1oqMn_FupN"
   },
   "outputs": [
    {
     "data": {
      "text/plain": [
       "\"Runnin' down the hill\""
      ]
     },
     "execution_count": 11,
     "metadata": {},
     "output_type": "execute_result"
    }
   ],
   "source": [
    "'Runnin\\' down the hill'"
   ]
  },
  {
   "cell_type": "markdown",
   "metadata": {
    "id": "yXKKUb-elh7U"
   },
   "source": [
    "Soweit so gut.\n",
    "\n",
    "Wir können jedes Zeichen in einem String in Großbuchstaben verwandeln indem wir folgendes tun:"
   ]
  },
  {
   "cell_type": "code",
   "execution_count": 12,
   "metadata": {
    "id": "ed8tS0jV29xb"
   },
   "outputs": [
    {
     "data": {
      "text/plain": [
       "'OLA'"
      ]
     },
     "execution_count": 12,
     "metadata": {},
     "output_type": "execute_result"
    }
   ],
   "source": [
    "\"Ola\".upper()"
   ]
  },
  {
   "cell_type": "markdown",
   "metadata": {
    "id": "U8go6PvFqCJP"
   },
   "source": [
    "Wir haben hier gerade die `upper()` Methode auf unseren String angewandt!\n",
    "\n",
    "Wenn wir eine Methode aufrufen weisen wir Python an eine Folge von Operationen auf einem gegebenen Objekt (in diesem Fall der String `\"Ola\"`) auszuführen.\n"
   ]
  },
  {
   "cell_type": "markdown",
   "metadata": {
    "id": "9oOy77qWqJpg"
   },
   "source": [
    "Nehmen wir an wir möchten die Anzahl an Zeichen in einem String wissen. Kein Problem. Auch hierfür gibt es eine Funktion:\n"
   ]
  },
  {
   "cell_type": "code",
   "execution_count": 13,
   "metadata": {
    "id": "C2FovWk32-8T"
   },
   "outputs": [
    {
     "data": {
      "text/plain": [
       "3"
      ]
     },
     "execution_count": 13,
     "metadata": {},
     "output_type": "execute_result"
    }
   ],
   "source": [
    "len(\"Ola\")"
   ]
  },
  {
   "cell_type": "markdown",
   "metadata": {
    "id": "RlZito4CqLwU"
   },
   "source": [
    "Jetzt fragst du dich bestimmt warum wir die eine Funktion aufgerufen haben indem wir sie mit einem Punkt an den String gehängt haben (`\"Ola\".upper()`) aber bei der anderen Funktion zuerst die Funktion geschrieben haben und den String in den Klammern übergeben haben (`len(\"Ola\")`).\n",
    "Und warum wir das eine *Methode* und das andere *Funktion* genannt haben.\n",
    "\n",
    "Also, manchmal gehören Funktionen zu bestimmten Objekten, wie zum Beispiel die `upper()` Funktion die zu Objekten vom Typ String gehört und auch nur sinnvoll auf Strings angewandt werden kann. In diesem Fall nennen wir die Funktion *Methode* und rufen sie mit dieser `.` Schreibweise auf.\n",
    "\n",
    "Andere Funktionen gehören nicht zu einem bestimmten *Datentyp* sonder können auf verschiedenen Typen angewandt werden. Ein Beispiel hierfür ist die `len()` Funktion. In diesem Fall nennen wir die Funktion *Funktion*  und rufen sie auf indem wir das *Argument* in Klammern übergeben.\n"
   ]
  },
  {
   "cell_type": "markdown",
   "metadata": {
    "id": "LbnOE9GxqQA3"
   },
   "source": [
    "## Zusammenfassung"
   ]
  },
  {
   "cell_type": "markdown",
   "metadata": {
    "id": "um64F_SWqR_x"
   },
   "source": [
    "OK, genug über Strings. Bis jetzt haben wir also folgendes gelernt:\n",
    "\n",
    "*   coding/programmieren – Die Eingabe von Befehlen in Codezellen weist Python an bestimmte Dinge zu berechnen und das Resultat auszugeben\n",
    "*   Zahlen und Strings – in Python werden Zahlen für Mathematik und Strings für Texte verwendet\n",
    "*   Operatoren - wie `+` und `*`,  verknüpfen Werte/Objekte um neue zu erzeugen\n",
    "*   Funktionen – wie `upper()` und `len()`, führen Operationen auf Objekten aus\n",
    "\n",
    "Diese 4 Konzepten sind die Grundlegenden Bausteine von jeder Programmiersprache die wir lernen.\n",
    "\n",
    "All right. Machen wir mit etwas schwierigerem weiter."
   ]
  },
  {
   "cell_type": "markdown",
   "metadata": {
    "id": "03MkicUVq4P8"
   },
   "source": [
    "# Errors"
   ]
  },
  {
   "cell_type": "markdown",
   "metadata": {
    "id": "dF5GxW_-q7ku"
   },
   "source": [
    "Versuchen wir etwas neues. Können wir die Länge einer Nummer auf die gleiche Art und weise bestimmen wie die Länge eines Strings? Probieren wir es aus:"
   ]
  },
  {
   "cell_type": "code",
   "execution_count": 14,
   "metadata": {
    "id": "TAEhMPZkrIb0"
   },
   "outputs": [
    {
     "ename": "TypeError",
     "evalue": "object of type 'int' has no len()",
     "output_type": "error",
     "traceback": [
      "\u001b[0;31m---------------------------------------------------------------------------\u001b[0m",
      "\u001b[0;31mTypeError\u001b[0m                                 Traceback (most recent call last)",
      "\u001b[0;32m/tmp/ipykernel_1327/493411413.py\u001b[0m in \u001b[0;36m<module>\u001b[0;34m\u001b[0m\n\u001b[0;32m----> 1\u001b[0;31m \u001b[0mlen\u001b[0m\u001b[0;34m(\u001b[0m\u001b[0;36m304023\u001b[0m\u001b[0;34m)\u001b[0m\u001b[0;34m\u001b[0m\u001b[0;34m\u001b[0m\u001b[0m\n\u001b[0m",
      "\u001b[0;31mTypeError\u001b[0m: object of type 'int' has no len()"
     ]
    }
   ],
   "source": [
    "len(304023)"
   ]
  },
  {
   "cell_type": "markdown",
   "metadata": {
    "id": "wiDyUAxurC2_"
   },
   "source": [
    "Wir haben unsere erste Fehlermeldung (oder *Error*)! Das Icon links zeigt uns an, dass der Code in dieser Zelle nicht so funktioniert wie wir es erwartet hatten und die Beschreibung sagt uns was genau schief gelaufen ist. Das wir diesen Fehler gemacht haben ist eigentlich etwas gutes. Fehler zu machen (selbst absichtliche) ist ein wichtiger Bestandteil des Lernprozesses.\n",
    "\n",
    "Schauen wir uns die Beschreibung des Fehlers genauer an: Python sagt uns, dass Objekte des Typs `int` (Integers, ganze Zahlen) keine Länge haben. Was können wir jezt machen? Vielleicht können wir unsere Zahl als String schreiben, denn Strings haben ja eine Länge. Versuchen wir das mal.\n",
    "\n"
   ]
  },
  {
   "cell_type": "code",
   "execution_count": 15,
   "metadata": {
    "id": "yG0Hoe8p3Dcz"
   },
   "outputs": [
    {
     "data": {
      "text/plain": [
       "6"
      ]
     },
     "execution_count": 15,
     "metadata": {},
     "output_type": "execute_result"
    }
   ],
   "source": [
    "len(str(304023))"
   ]
  },
  {
   "cell_type": "markdown",
   "metadata": {
    "id": "IObWos5utqLH"
   },
   "source": [
    "# Variablen"
   ]
  },
  {
   "cell_type": "code",
   "execution_count": 16,
   "metadata": {
    "id": "tFffm1FJPmeB"
   },
   "outputs": [
    {
     "ename": "ValueError",
     "evalue": "invalid literal for int() with base 10: 'hello'",
     "output_type": "error",
     "traceback": [
      "\u001b[0;31m---------------------------------------------------------------------------\u001b[0m",
      "\u001b[0;31mValueError\u001b[0m                                Traceback (most recent call last)",
      "\u001b[0;32m/tmp/ipykernel_1327/3013743351.py\u001b[0m in \u001b[0;36m<module>\u001b[0;34m\u001b[0m\n\u001b[0;32m----> 1\u001b[0;31m \u001b[0mint\u001b[0m\u001b[0;34m(\u001b[0m\u001b[0;34m\"hello\"\u001b[0m\u001b[0;34m)\u001b[0m\u001b[0;34m\u001b[0m\u001b[0;34m\u001b[0m\u001b[0m\n\u001b[0m",
      "\u001b[0;31mValueError\u001b[0m: invalid literal for int() with base 10: 'hello'"
     ]
    }
   ],
   "source": [
    "int(\"hello\") \n"
   ]
  },
  {
   "cell_type": "markdown",
   "metadata": {
    "id": "lhfdG22PtVit"
   },
   "source": [
    "Es hat funktioniert! Wir haben die `str()` Funktion innerhalb der `len()` Funktion verwendet. Die `str()` Funktion wandelt alles was wir ihr geben in Strings um.\n",
    "\n",
    "* Die `str()` Funktion wandel Objekte in Strings um\n",
    "\n",
    "* The `int()` Funktion wandelt Objekte in Integers um\n",
    "\n",
    "> Aber Achtung: Wir können Zahlen in Text umwanden aber wir können nicht jeden Text in Zahlen umwandeln! Was würden wir überhaupt von z.B. `int(\"hello\")` erwarten? Probiert am besten mal aus was dann passiert.\n"
   ]
  },
  {
   "cell_type": "markdown",
   "metadata": {
    "id": "qEM4879_tsL7"
   },
   "source": [
    "Ein weiteres wichtiges Konzept beim Programmieren sind *Variablen*. Eine Variable ist nichts anderes als ein Name den wir einem Objekt geben können so das wir es später nochmal verwenden können. Variablen werden meistens verwendet um Daten zu speichern, den Code lesbarer zu machen oder um sich nicht später daran erinnern zu müssen was jetzt was war.\n",
    "\n",
    "Erstellen wir mal eine neue Variable die wir `name` nennen:\n"
   ]
  },
  {
   "cell_type": "code",
   "execution_count": 17,
   "metadata": {
    "id": "9Zh10p8guVFL"
   },
   "outputs": [],
   "source": [
    "name = \"Ola\""
   ]
  },
  {
   "cell_type": "markdown",
   "metadata": {
    "id": "YFtgUTz_uWVs"
   },
   "source": [
    "Wie ihr sicherlicht bemerkt habt, hat das Programm diesmal nichts zurückgegeben. Woher wissen wir ob diese Variable jetzt wirklich existiert? Wir können folgendes ausführen:"
   ]
  },
  {
   "cell_type": "code",
   "execution_count": 18,
   "metadata": {
    "id": "WI97k85vupbI"
   },
   "outputs": [
    {
     "data": {
      "text/plain": [
       "'Ola'"
      ]
     },
     "execution_count": 18,
     "metadata": {},
     "output_type": "execute_result"
    }
   ],
   "source": [
    "name"
   ]
  },
  {
   "cell_type": "markdown",
   "metadata": {
    "id": "WBegDs5Euiqj"
   },
   "source": [
    "Wir haben hier also unsere erste Variable. Wir können jederzeit ändern auf was sich die Variable bezieht:"
   ]
  },
  {
   "cell_type": "code",
   "execution_count": 19,
   "metadata": {
    "id": "_Z4xUTlZ3InZ"
   },
   "outputs": [],
   "source": [
    "name = \"Sonja\""
   ]
  },
  {
   "cell_type": "markdown",
   "metadata": {
    "id": "EzW-wriWuuzf"
   },
   "source": [
    "Wir können die Variable auch an Funktionen übergeben"
   ]
  },
  {
   "cell_type": "code",
   "execution_count": 20,
   "metadata": {
    "id": "vqKFT88s3Jl9"
   },
   "outputs": [
    {
     "data": {
      "text/plain": [
       "5"
      ]
     },
     "execution_count": 20,
     "metadata": {},
     "output_type": "execute_result"
    }
   ],
   "source": [
    "len(name)"
   ]
  },
  {
   "cell_type": "markdown",
   "metadata": {
    "id": "WsQxfczQRrgr"
   },
   "source": [
    "oder die eine Methode ihres Typs auführen"
   ]
  },
  {
   "cell_type": "code",
   "execution_count": 21,
   "metadata": {
    "id": "7s4_RZQCRsYQ"
   },
   "outputs": [
    {
     "data": {
      "text/plain": [
       "'SONJA'"
      ]
     },
     "execution_count": 21,
     "metadata": {},
     "output_type": "execute_result"
    }
   ],
   "source": [
    "name.upper()"
   ]
  },
  {
   "cell_type": "markdown",
   "metadata": {
    "id": "0Y5F9N2Fuwcm"
   },
   "source": [
    "Toll, nicht wahr?\n",
    "Variable können alles mögliche sein. Zum Beispiel auch Zahlen. Probieren wir mal folgendes aus:"
   ]
  },
  {
   "cell_type": "code",
   "execution_count": 22,
   "metadata": {
    "id": "kzgKgQgD3LSV"
   },
   "outputs": [
    {
     "data": {
      "text/plain": [
       "24"
      ]
     },
     "execution_count": 22,
     "metadata": {},
     "output_type": "execute_result"
    }
   ],
   "source": [
    "a = 4\n",
    "b = 6\n",
    "a * b"
   ]
  },
  {
   "cell_type": "markdown",
   "metadata": {
    "id": "JUbpsVtpTuEN"
   },
   "source": [
    "Um herauszufinden welchen Typ eine Variable hat können wir die `type()` Funktion verwenden. (Ok, bei unseren Beispielen könnten wir die Variable auch einfach die Ausgabe einer geeigneten Zelle anschauen, aber manchmal ist es nicht ganz so einfach)"
   ]
  },
  {
   "cell_type": "code",
   "execution_count": 23,
   "metadata": {
    "id": "mwIFTHp0T-qD"
   },
   "outputs": [
    {
     "data": {
      "text/plain": [
       "str"
      ]
     },
     "execution_count": 23,
     "metadata": {},
     "output_type": "execute_result"
    }
   ],
   "source": [
    "type(name)"
   ]
  },
  {
   "cell_type": "markdown",
   "metadata": {
    "id": "7XLapwGnuyOc"
   },
   "source": [
    "Aber was passiert wenn wir einen falschen Namen aufrufen? Also falls eine Variable nicht existiert? Kannst du erraten was passieren wird? Probiere es aus!"
   ]
  },
  {
   "cell_type": "code",
   "execution_count": 24,
   "metadata": {
    "id": "8VvZSSNG3O46"
   },
   "outputs": [
    {
     "ename": "NameError",
     "evalue": "name 'ctiy' is not defined",
     "output_type": "error",
     "traceback": [
      "\u001b[0;31m---------------------------------------------------------------------------\u001b[0m",
      "\u001b[0;31mNameError\u001b[0m                                 Traceback (most recent call last)",
      "\u001b[0;32m/tmp/ipykernel_1327/2757109677.py\u001b[0m in \u001b[0;36m<module>\u001b[0;34m\u001b[0m\n\u001b[1;32m      1\u001b[0m \u001b[0mcity\u001b[0m \u001b[0;34m=\u001b[0m \u001b[0;34m\"Tokyo\"\u001b[0m\u001b[0;34m\u001b[0m\u001b[0;34m\u001b[0m\u001b[0m\n\u001b[0;32m----> 2\u001b[0;31m \u001b[0mctiy\u001b[0m\u001b[0;34m\u001b[0m\u001b[0;34m\u001b[0m\u001b[0m\n\u001b[0m",
      "\u001b[0;31mNameError\u001b[0m: name 'ctiy' is not defined"
     ]
    }
   ],
   "source": [
    "city = \"Tokyo\"\n",
    "ctiy"
   ]
  },
  {
   "cell_type": "markdown",
   "metadata": {
    "id": "JM_Z68vtu1CR"
   },
   "source": [
    "\n",
    "Wir bekommen einen Fehler. Wir wir sehen hat Python verschiedene Arten von Errors und dieser hier heißt `NameError`. Python wird diesen Fehler produzieren wenn wir eine Variable verwenden wollen die noch nicht definiert wurde. Falls ihr diesem Fehler begegnet solltet ihr euren Code anschauen und prüfen ob ihr euch vertippt habt!\n",
    "\n",
    "Spielt ruhig etwas herum uns schaut was so passiert."
   ]
  },
  {
   "cell_type": "markdown",
   "metadata": {
    "id": "5KvNtLXEvIaZ"
   },
   "source": [
    "# Die print Funktion\n",
    "\n",
    "\n"
   ]
  },
  {
   "cell_type": "markdown",
   "metadata": {
    "id": "pJivOHQ6vLmq"
   },
   "source": [
    "Probiere folgendes aus:"
   ]
  },
  {
   "cell_type": "code",
   "execution_count": 25,
   "metadata": {
    "id": "XUUS-UKN3QTN"
   },
   "outputs": [
    {
     "data": {
      "text/plain": [
       "'Maria'"
      ]
     },
     "execution_count": 25,
     "metadata": {},
     "output_type": "execute_result"
    }
   ],
   "source": [
    "name = 'Maria'\n",
    "name"
   ]
  },
  {
   "cell_type": "markdown",
   "metadata": {
    "id": "kNLxOLpRvldE"
   },
   "source": [
    "Und jetzt das hier:"
   ]
  },
  {
   "cell_type": "code",
   "execution_count": 26,
   "metadata": {
    "id": "uytVFSiq3Qyp"
   },
   "outputs": [
    {
     "name": "stdout",
     "output_type": "stream",
     "text": [
      "Maria\n"
     ]
    }
   ],
   "source": [
    "print(name)"
   ]
  },
  {
   "cell_type": "markdown",
   "metadata": {
    "id": "AI-9eeT3voKo"
   },
   "source": [
    "Wenn wir einfach nur `name` eingeben, liefert Python eine String-*Darstellung* der Variable `name`. In diesem Fall ist das die Zeichenfolge `M-a-r-i-a` umschlossen von einfachen Anführungszeichen `''`. \n",
    "Wenn wir jedoch die Funktion `print(name)` aufrufen, wird Python das was wir an die print() Funktion übergeben auf dem Bildschirm ausgeben. Und zwar ohne die Anführungszeichen, was auch schöner ist.\n",
    "\n",
    "Wir werden später sehen, dass die `print()` Funktion sehr praktisch ist wenn wir zum Beispiel Dinge innerhalb einer Funktion ausgeben wollen oder wenn wir mehrere Zeilen printen wollen.\n",
    "\n",
    "Um das ganze besser zu verstehen vergleichen wir mal was passiert wenn wir folgendes ausführen:"
   ]
  },
  {
   "cell_type": "code",
   "execution_count": 27,
   "metadata": {
    "id": "X_GwmXKLW5Na"
   },
   "outputs": [
    {
     "data": {
      "text/plain": [
       "'Sonja'"
      ]
     },
     "execution_count": 27,
     "metadata": {},
     "output_type": "execute_result"
    }
   ],
   "source": [
    "name = 'Maria'\n",
    "name\n",
    "name = 'Sonja'\n",
    "name\n",
    "name"
   ]
  },
  {
   "cell_type": "markdown",
   "metadata": {
    "id": "ln_B62sAXCQ5"
   },
   "source": [
    "mit dem hier:"
   ]
  },
  {
   "cell_type": "code",
   "execution_count": 28,
   "metadata": {
    "id": "tzfEy0QzXAYc"
   },
   "outputs": [
    {
     "name": "stdout",
     "output_type": "stream",
     "text": [
      "Maria\n",
      "Sonja\n"
     ]
    },
    {
     "data": {
      "text/plain": [
       "'Sonja'"
      ]
     },
     "execution_count": 28,
     "metadata": {},
     "output_type": "execute_result"
    }
   ],
   "source": [
    "name = 'Maria'\n",
    "print(name)\n",
    "name = 'Sonja'\n",
    "print(name)\n",
    "name"
   ]
  },
  {
   "cell_type": "markdown",
   "metadata": {
    "id": "O_3I-DbyXNgE"
   },
   "source": [
    "Wir sehen, dass Python einfach nur das Resultat des letzten Befehls in einer Zelle ausgibt. Und wenn wir Dinge sehen wollen die vorher passieren können wir die `print()` Funktion verwenden."
   ]
  },
  {
   "cell_type": "markdown",
   "metadata": {
    "id": "S99bx7POwRXi"
   },
   "source": [
    "# Listen"
   ]
  },
  {
   "cell_type": "markdown",
   "metadata": {
    "id": "yKKBp9aKwUX7"
   },
   "source": [
    "Neben Strings und Integers gibt es in Python noch viele andere typen von Objekten. Als nächstes werden wir Objekte des Typs `list`, also Listen untersuchen. Listen sind sehr nützlich und genau das, was man sich darunter vorstellt. Objekte die Listen von anderen Objekten sind.\n",
    "\n",
    "Erstellen wir mal eine Liste:"
   ]
  },
  {
   "cell_type": "code",
   "execution_count": 29,
   "metadata": {
    "id": "7RDHvRlD3Xiv"
   },
   "outputs": [
    {
     "data": {
      "text/plain": [
       "[]"
      ]
     },
     "execution_count": 29,
     "metadata": {},
     "output_type": "execute_result"
    }
   ],
   "source": [
    "[]"
   ]
  },
  {
   "cell_type": "markdown",
   "metadata": {
    "id": "2pifgvB1xVXK"
   },
   "source": [
    "Ja, diese Liste hier ist leer. Das ist erstmal nicht sehr nützlich. Erstellen wir stattdessen eine Liste von Lottozahlen. Und da wir das nicht immer wiederholen wollen weisen wir sie einer Variable zu:"
   ]
  },
  {
   "cell_type": "code",
   "execution_count": 30,
   "metadata": {
    "id": "YBikgHlS3YoD"
   },
   "outputs": [],
   "source": [
    "lottery = [3, 42, 12, 19, 30, 49]"
   ]
  },
  {
   "cell_type": "markdown",
   "metadata": {
    "id": "ogSISkXxxYbo"
   },
   "source": [
    "Alles klar, jetzt haben wir eine Liste. Was können wir jetzt damit machen? Versuchen wir mal herauszufinden wie viele Zahlen in der Liste sind. Und welche Funktion wir dafür verwenden können haben wir vorhin schon gelernt!"
   ]
  },
  {
   "cell_type": "code",
   "execution_count": 31,
   "metadata": {
    "id": "rojRT7aj3ZZJ"
   },
   "outputs": [
    {
     "data": {
      "text/plain": [
       "6"
      ]
     },
     "execution_count": 31,
     "metadata": {},
     "output_type": "execute_result"
    }
   ],
   "source": [
    "len(lottery)"
   ]
  },
  {
   "cell_type": "markdown",
   "metadata": {
    "id": "MTHCcPOGxbWY"
   },
   "source": [
    "Ja! `len() ` kann uns die Anzahl der Objekte in einer Liste geben. \n",
    "Was können wir noch so machen. Wir können Listen auch sortieren!"
   ]
  },
  {
   "cell_type": "code",
   "execution_count": 32,
   "metadata": {
    "id": "_VubC_8B3bJi"
   },
   "outputs": [],
   "source": [
    "lottery.sort()"
   ]
  },
  {
   "cell_type": "markdown",
   "metadata": {
    "id": "1VScxkEmxeBZ"
   },
   "source": [
    "Bis jetzt haben wir keine Ausgbane. Die Methode hat jedoch die Reihenfolge der Zahlen in der Liste geändert! Verwenden wir mal die `print()` Funktion um zu sehen wie die Liste jetzt aussieht"
   ]
  },
  {
   "cell_type": "code",
   "execution_count": 33,
   "metadata": {
    "id": "2nnbI5sI3b35"
   },
   "outputs": [
    {
     "name": "stdout",
     "output_type": "stream",
     "text": [
      "[3, 12, 19, 30, 42, 49]\n"
     ]
    }
   ],
   "source": [
    "print(lottery)"
   ]
  },
  {
   "cell_type": "markdown",
   "metadata": {
    "id": "JkMgrb_cxga_"
   },
   "source": [
    "Wie wir sehen können sind die Zahlen in der Liste jetzt aufsteigen sortiert.\n",
    "\n",
    "Können wir das auch andersrum anordnen? Ja, ganz einfach!"
   ]
  },
  {
   "cell_type": "code",
   "execution_count": 34,
   "metadata": {
    "id": "2TcCdAXY3cwv"
   },
   "outputs": [
    {
     "name": "stdout",
     "output_type": "stream",
     "text": [
      "[49, 42, 30, 19, 12, 3]\n"
     ]
    }
   ],
   "source": [
    "lottery.reverse()\n",
    "print(lottery)"
   ]
  },
  {
   "cell_type": "markdown",
   "metadata": {
    "id": "R18ubDoKxjVS"
   },
   "source": [
    "Wenn wir etwas zu unserer Liste hinzufügen wollen können wir das folgenderweise machen::"
   ]
  },
  {
   "cell_type": "code",
   "execution_count": 35,
   "metadata": {
    "id": "-_FKB5413dbm"
   },
   "outputs": [
    {
     "name": "stdout",
     "output_type": "stream",
     "text": [
      "[49, 42, 30, 19, 12, 3, 199]\n"
     ]
    }
   ],
   "source": [
    "lottery.append(199)\n",
    "print(lottery)"
   ]
  },
  {
   "cell_type": "markdown",
   "metadata": {
    "id": "CpmBUzXqxleH"
   },
   "source": [
    "Falls wir uns nur die erste Zahl in der Liste anschauen wollen können wir den *Index* verwenden. Ein Index ist die Zahl die sagt an welcher Stelle in einer Liste ein Eintrag steht. Aber achtung: Beim programmieren beginnt man das Zählen üblicherweise bei 0. Das erste Objekt in einer Liste hat also den Index 0, das nächste 1 und so weiter.\n",
    "\n",
    "Probieren wir mal folgendes aus:"
   ]
  },
  {
   "cell_type": "code",
   "execution_count": 36,
   "metadata": {
    "id": "_-0-3fkg3d6A"
   },
   "outputs": [
    {
     "name": "stdout",
     "output_type": "stream",
     "text": [
      "49\n",
      "42\n"
     ]
    }
   ],
   "source": [
    "print(lottery[0])\n",
    "print(lottery[1])"
   ]
  },
  {
   "cell_type": "markdown",
   "metadata": {
    "id": "x9Rn0LHExnS_"
   },
   "source": [
    "Wie wir sehen, können wir auf die Objekte in einer Liste zugreifen indem wir den Listennamen, den Index des Objekts und eckige Klammern verwenden.\n",
    "\n",
    "Um etwas aus einer Liste zu entfernen, müssen wir den Index des Objekts kennen und die `pop()` Methode verwenden. Probieren wir das mal aus und entfernen die erste Zahl aus unserer Liste.\n",
    "\n"
   ]
  },
  {
   "cell_type": "code",
   "execution_count": 37,
   "metadata": {
    "id": "-EdZzdBi3efe"
   },
   "outputs": [
    {
     "name": "stdout",
     "output_type": "stream",
     "text": [
      "[49, 42, 30, 19, 12, 3, 199]\n",
      "49\n",
      "[42, 30, 19, 12, 3, 199]\n",
      "42\n"
     ]
    }
   ],
   "source": [
    "print(lottery)\n",
    "print(lottery[0])\n",
    "lottery.pop(0)\n",
    "print(lottery)\n",
    "print(lottery[0])\n"
   ]
  },
  {
   "cell_type": "markdown",
   "metadata": {
    "id": "IEt9yV1ixpZy"
   },
   "source": [
    "Sehr gut.\n",
    "Wir sehen auch, dass die Liste immer mit dem Index 0 anfängt. Wenn wir die erste Zahl entfernen rücken die anderen Zahlen eins weiter nach vorne!\n",
    "\n",
    "\n",
    "Für extra Spaß können wir auch andere Indizes ausprobieren: 6, 7, 1000, -1, -6 or -1000.\n",
    "Probiert das mal aus. Könnt ihr vorhersagen was passiert? Macht das Resultat sinn?"
   ]
  },
  {
   "cell_type": "code",
   "execution_count": null,
   "metadata": {
    "id": "gqkiMdUb3iG9"
   },
   "outputs": [],
   "source": []
  },
  {
   "cell_type": "markdown",
   "metadata": {
    "id": "Oee7PdI93il4"
   },
   "source": [
    "Listen sind sehr nützlich. Alle verfügbaren Methoden von Listen könnt ihr in \n",
    " [diesem Kapitel]( https://docs.python.org/3/tutorial/datastructures.html) der python Dokumentation finden.\n"
   ]
  },
  {
   "cell_type": "markdown",
   "metadata": {
    "id": "nZahIkmryDo4"
   },
   "source": [
    "# Dictionaries"
   ]
  },
  {
   "cell_type": "markdown",
   "metadata": {
    "id": "xjHbezWYx87t"
   },
   "source": [
    "Ein *Dictionary* ist sehr ähnlich zu einer Liste, aber bei dictionairies werden Einträge mittels einens *key* anstatt einem Index aufgerufen:\n",
    "\n",
    "Um ein leeres dictionary zu erzeugen schreiben wir:"
   ]
  },
  {
   "cell_type": "code",
   "execution_count": 38,
   "metadata": {
    "id": "vtlksih73ntN"
   },
   "outputs": [
    {
     "data": {
      "text/plain": [
       "{}"
      ]
     },
     "execution_count": 38,
     "metadata": {},
     "output_type": "execute_result"
    }
   ],
   "source": [
    "{}"
   ]
  },
  {
   "cell_type": "markdown",
   "metadata": {
    "id": "IQ-ac_5O3oKi"
   },
   "source": [
    "Als nächstes probieren wir mal folgendes aus ( versucht ruhig eure eigenen Informationen zu verwenden):"
   ]
  },
  {
   "cell_type": "code",
   "execution_count": 39,
   "metadata": {
    "id": "VaHdkuqW3qvn"
   },
   "outputs": [],
   "source": [
    "participant = {'name': 'Ola', 'country': 'Poland', 'favorite_numbers': [7, 42, 92]}"
   ]
  },
  {
   "cell_type": "markdown",
   "metadata": {
    "id": "H8XjPg8e3rEV"
   },
   "source": [
    "Mit diesem Befehl haben wir eine Variable names `participant` erstellt die auf ein dictionary zeigt, welches 3 *key*-*value* Paare beinhaltet:\n",
    "\n",
    "* `name` zeigt auf den Wert `'Ola'` (ein string object)\n",
    "* `country` zeigt auf `'Poland'` (another string)\n",
    "* `favorite_numbers` zeigt auf `[7, 42, 92]` (ein list Objekt  mit 3 integer Zahlen)\n",
    "\n",
    "Wir können den *value*  eines keys printen indem wir Folgenes eingeben:"
   ]
  },
  {
   "cell_type": "code",
   "execution_count": 40,
   "metadata": {
    "id": "_cXJaCW63uAi"
   },
   "outputs": [
    {
     "name": "stdout",
     "output_type": "stream",
     "text": [
      "Ola\n"
     ]
    }
   ],
   "source": [
    "print(participant['name'])"
   ]
  },
  {
   "cell_type": "markdown",
   "metadata": {
    "id": "rjiwqG-93u3s"
   },
   "source": [
    "Es ist also sehr ähnlich wie das was wir vorher mit Listen gemacht hatten. Aber bei dictionaries braucht man sich keine Indizes merken sonder nur die keys, die man ja sinnvoll benennen kann!\n",
    "\n",
    "Was passiert wenn ihr Python nach einem key fragt der nicht existiert? Macht eine Vorhersage und probiert es aus!"
   ]
  },
  {
   "cell_type": "code",
   "execution_count": 41,
   "metadata": {
    "id": "OEiLS25v3z9o"
   },
   "outputs": [
    {
     "ename": "KeyError",
     "evalue": "'age'",
     "output_type": "error",
     "traceback": [
      "\u001b[0;31m---------------------------------------------------------------------------\u001b[0m",
      "\u001b[0;31mKeyError\u001b[0m                                  Traceback (most recent call last)",
      "\u001b[0;32m/tmp/ipykernel_1327/3502092819.py\u001b[0m in \u001b[0;36m<module>\u001b[0;34m\u001b[0m\n\u001b[0;32m----> 1\u001b[0;31m \u001b[0mparticipant\u001b[0m\u001b[0;34m[\u001b[0m\u001b[0;34m'age'\u001b[0m\u001b[0;34m]\u001b[0m\u001b[0;34m\u001b[0m\u001b[0;34m\u001b[0m\u001b[0m\n\u001b[0m",
      "\u001b[0;31mKeyError\u001b[0m: 'age'"
     ]
    }
   ],
   "source": [
    "participant['age']"
   ]
  },
  {
   "cell_type": "markdown",
   "metadata": {
    "id": "CuUFr5cm30gh"
   },
   "source": [
    "Aha, eine neuer Error. Diesmal haben wir einen `KeyError` der dann auftritt wenn der key nicht existiert.\n",
    "\n",
    "Jetzt fragt man sich wann man ein dictionary und wann eine Liste verwenden soll.\n",
    "Das ist eine sehr gute Frage. Überlegt ruhig etwas bevor ihr weiterlest.\n",
    "\n",
    "Falls ihr nur eine geordnete Reihenfolge von Dingen braucht, verwendet eine Liste. Falls die Reihenfolge egal ist und ihr stattdessen eine effiziente Assoziation zwischen einem Eingangswert, dem key, und einem Objekt braucht, verwendet am besten ein dictionary.\n",
    "\n",
    "Sowohl dictionaries als auch Listen sind *mutable*. Das heißt, das sie geändert werden können nachdem sie erstellt wurden. Das hatten wir weiter oben für Liste schon ausprobiert.\n",
    "Wenn wir bei einem dictionary ein neues key-value Paar hinzuzfügen wollen können wir das zum Beispiel so machen:"
   ]
  },
  {
   "cell_type": "code",
   "execution_count": 44,
   "metadata": {
    "id": "YKktGFoE35DF"
   },
   "outputs": [],
   "source": [
    "participant['favorite_language'] = 'Python'"
   ]
  },
  {
   "cell_type": "markdown",
   "metadata": {
    "id": "kuQ4iKoP35qO"
   },
   "source": [
    "Genau so wie Liste haben auch dictionaries eine Länge die wir mit der `len()` Funktion erfragen können. In diesem Fall ist die Länge die Anzahl der key-value Paare.\n",
    "\n",
    "Wir probieren das mal aus:"
   ]
  },
  {
   "cell_type": "code",
   "execution_count": 43,
   "metadata": {
    "id": "Vwn_NbST37X0"
   },
   "outputs": [
    {
     "data": {
      "text/plain": [
       "4"
      ]
     },
     "execution_count": 43,
     "metadata": {},
     "output_type": "execute_result"
    }
   ],
   "source": [
    "len(participant)"
   ]
  },
  {
   "cell_type": "markdown",
   "metadata": {
    "id": "LoRBowY237xe"
   },
   "source": [
    "Hoffentlich macht bis hierhin alles Sinn.\n",
    "Bereit für mehr? Wir können nämlich noch andere tolle Dinge mit dictionaries machen.\n",
    "\n",
    "Wir können die `pop()` methode verwenden um Dinge aus dictionaries zu löschen. Nehmen wir mal an, wir wollen den Eintrag zum key `'favorite_numbers'` löschen. Dann können wir das so machen:"
   ]
  },
  {
   "cell_type": "code",
   "execution_count": 45,
   "metadata": {
    "id": "s3CtGWVE391E"
   },
   "outputs": [
    {
     "data": {
      "text/plain": [
       "{'name': 'Ola', 'country': 'Poland', 'favorite_language': 'Python'}"
      ]
     },
     "execution_count": 45,
     "metadata": {},
     "output_type": "execute_result"
    }
   ],
   "source": [
    "participant.pop('favorite_numbers')\n",
    "participant"
   ]
  },
  {
   "cell_type": "markdown",
   "metadata": {
    "id": "Xtfx9jxV3-TB"
   },
   "source": [
    "Wie wir sehen, wurde das key-value paar gelöscht!\n",
    "\n",
    "Wir können auch den Wert eines schon existierenden key-value Paares ändern.\n",
    "Probieren wir das mal aus:"
   ]
  },
  {
   "cell_type": "code",
   "execution_count": 46,
   "metadata": {
    "id": "8BgUGoyu3_7S"
   },
   "outputs": [
    {
     "data": {
      "text/plain": [
       "{'name': 'Ola', 'country': 'Germany', 'favorite_language': 'Python'}"
      ]
     },
     "execution_count": 46,
     "metadata": {},
     "output_type": "execute_result"
    }
   ],
   "source": [
    "participant['country'] = 'Germany'\n",
    "participant"
   ]
  },
  {
   "cell_type": "markdown",
   "metadata": {
    "id": "5O35-GA14AcY"
   },
   "source": [
    "Der Wert des keys `'country'` wurde also verändert und ist statt `'Poland'` jetzt `'Germany'`.\n"
   ]
  },
  {
   "cell_type": "markdown",
   "metadata": {
    "id": "Q0WN-W15y4bR"
   },
   "source": [
    "## Zusammenfassung\n"
   ]
  },
  {
   "cell_type": "markdown",
   "metadata": {
    "id": "1uI3_lfi4G9l"
   },
   "source": [
    "Wir haben jetzt schon super viel über Programmieren gelernt. \n",
    "\n",
    "Fassen wir nochmal zusammen was wir in diesem Teil neues gelernt hatten.\n",
    "\n",
    "*   Errors – Wir verstehen jetzt wie man Error-Meldungen liest und verstehen Erros die auftachen wenn Python selber die Befehle nicht versteht\n",
    "*   Variablen – Namen für Objekte die wie verwenden können um das Programmieren einfacher zu machen und den Code lesbarer zu gestalten\n",
    "*   Listen – In `list` Objekten werden andere Objekte in einer bestimmten Reihenfolge aufbewahrt\n",
    "*   dictionaries – Bestehen aus key-value Paaren die jedem key ein value Objekt zuweist.\n",
    "\n",
    "Ziemlich cool. Bereit für mehr?"
   ]
  },
  {
   "cell_type": "markdown",
   "metadata": {
    "id": "5iESqtk50zLJ"
   },
   "source": [
    "# Vergleiche"
   ]
  },
  {
   "cell_type": "markdown",
   "metadata": {
    "id": "R9lO84VP1yIW"
   },
   "source": [
    "Ein großer Teil des Programmierens besteht darin Dinge miteinder zu vergleichen. Schauen wir uns also mal wie man das so macht und fangen mit einfachen Zahlen an.\n",
    "\n",
    "Probieren wir mal folgende Befehle aus:"
   ]
  },
  {
   "cell_type": "code",
   "execution_count": 47,
   "metadata": {
    "id": "OIMrUIK94aBp"
   },
   "outputs": [
    {
     "data": {
      "text/plain": [
       "True"
      ]
     },
     "execution_count": 47,
     "metadata": {},
     "output_type": "execute_result"
    }
   ],
   "source": [
    "5 > 2"
   ]
  },
  {
   "cell_type": "code",
   "execution_count": 48,
   "metadata": {
    "id": "hhnJK73KIE0H"
   },
   "outputs": [
    {
     "data": {
      "text/plain": [
       "False"
      ]
     },
     "execution_count": 48,
     "metadata": {},
     "output_type": "execute_result"
    }
   ],
   "source": [
    "3 < 1"
   ]
  },
  {
   "cell_type": "code",
   "execution_count": 49,
   "metadata": {
    "id": "5QaDY6XqIEk3"
   },
   "outputs": [
    {
     "data": {
      "text/plain": [
       "True"
      ]
     },
     "execution_count": 49,
     "metadata": {},
     "output_type": "execute_result"
    }
   ],
   "source": [
    "5 > ( 2 * 2 )"
   ]
  },
  {
   "cell_type": "code",
   "execution_count": 50,
   "metadata": {
    "id": "9a6TVzKdIEbf"
   },
   "outputs": [
    {
     "data": {
      "text/plain": [
       "True"
      ]
     },
     "execution_count": 50,
     "metadata": {},
     "output_type": "execute_result"
    }
   ],
   "source": [
    "1 == 1"
   ]
  },
  {
   "cell_type": "code",
   "execution_count": 51,
   "metadata": {
    "id": "Q7PqtJC4IESa"
   },
   "outputs": [
    {
     "data": {
      "text/plain": [
       "True"
      ]
     },
     "execution_count": 51,
     "metadata": {},
     "output_type": "execute_result"
    }
   ],
   "source": [
    "5 != 2"
   ]
  },
  {
   "cell_type": "code",
   "execution_count": 52,
   "metadata": {
    "id": "6x_6VLOClII7"
   },
   "outputs": [
    {
     "data": {
      "text/plain": [
       "False"
      ]
     },
     "execution_count": 52,
     "metadata": {},
     "output_type": "execute_result"
    }
   ],
   "source": [
    "len(\"hello\")==len(\"bye\")"
   ]
  },
  {
   "cell_type": "markdown",
   "metadata": {
    "id": "Cbc5WFhA103J"
   },
   "source": [
    "Wir haben Python gesagt, dass es verschiedene Zahlen vergleichen soll. \n",
    "Das Ergebnis jedes Vergleichs ist entweder wahr (True) oder falsch (False)\n",
    "\n",
    "Wie wir auch sehen kann Python nicht nur Zahlen sondern auch die Resultate von Methoden und Funktionen vergleichen!\n",
    "\n",
    "Fragt ihr euch warum wir zwei Gleichheitszeichen `==` anstatt nur eines verwenden? Das ist deshalb so weil wir ein einzelnes `=` schon für die Zuweisung von Variablen verwenden. Also: wir müssen IMMER 2 Gleichzeichen verwenden wenn wir die Gleichheit zweier Dinge prüfen wollen!\n",
    "\n",
    "Oben haben wir auch `!=` verwendet mit dem wir prüfen ob 2 Dinge ungleich sind.\n",
    "\n",
    "\n",
    "Versuchen wir etwas anderes:"
   ]
  },
  {
   "cell_type": "code",
   "execution_count": 53,
   "metadata": {
    "id": "q7IFnyOVIKXJ"
   },
   "outputs": [
    {
     "data": {
      "text/plain": [
       "True"
      ]
     },
     "execution_count": 53,
     "metadata": {},
     "output_type": "execute_result"
    }
   ],
   "source": [
    "6 >= 12 / 2"
   ]
  },
  {
   "cell_type": "code",
   "execution_count": 54,
   "metadata": {
    "id": "z5UzAl-44a3U"
   },
   "outputs": [
    {
     "data": {
      "text/plain": [
       "False"
      ]
     },
     "execution_count": 54,
     "metadata": {},
     "output_type": "execute_result"
    }
   ],
   "source": [
    "3 <= 2"
   ]
  },
  {
   "cell_type": "markdown",
   "metadata": {
    "id": "Kp2mMDrf14l-"
   },
   "source": [
    "Wir haben gesehen was `>` und `<` machen. Aber was bedeuten jetzt `>=` und `<=`?\n",
    "\n",
    "Das ist ganz einfach:\n",
    "*   `x > y` heißt: x ist größer als y\n",
    "*   `x < y` means: x ist kleiner als y\n",
    "*   `x <= y` means: x ist kleiner oder gleich y\n",
    "*   `x >= y` means: x ist größer oder gleich y\n",
    "\n",
    "Großartig!\n",
    "Proieren wir jetzt mal noch etwas komplizierteres:"
   ]
  },
  {
   "cell_type": "code",
   "execution_count": 55,
   "metadata": {
    "id": "sRQcexnm4b66"
   },
   "outputs": [
    {
     "data": {
      "text/plain": [
       "True"
      ]
     },
     "execution_count": 55,
     "metadata": {},
     "output_type": "execute_result"
    }
   ],
   "source": [
    "6 > 2 and 2 < 3"
   ]
  },
  {
   "cell_type": "code",
   "execution_count": 57,
   "metadata": {
    "id": "rqkcG-ygIRHX"
   },
   "outputs": [
    {
     "data": {
      "text/plain": [
       "False"
      ]
     },
     "execution_count": 57,
     "metadata": {},
     "output_type": "execute_result"
    }
   ],
   "source": [
    "3 > 2 and 2 < 1"
   ]
  },
  {
   "cell_type": "code",
   "execution_count": 58,
   "metadata": {
    "id": "yCCoDHigIQ8u"
   },
   "outputs": [
    {
     "data": {
      "text/plain": [
       "True"
      ]
     },
     "execution_count": 58,
     "metadata": {},
     "output_type": "execute_result"
    }
   ],
   "source": [
    "3 > 2 or 2 < 1"
   ]
  },
  {
   "cell_type": "markdown",
   "metadata": {
    "id": "Rm61Rupo17UK"
   },
   "source": [
    "Wir können Vergleiche aneinanderhängen indem wir die logischen `and` und `or` Operatoren verwenden. So können wir Python beliebig viele Zahlenpaare zum Vergleichen geben und eine einzige Antwort erhalten!\n",
    "\n",
    "*  and – Mit dem `and` operator müssen beide Vergleiche True sein damit der ganze Befehl True ist\n",
    "*  or – Mit dem `or` operator muss nur einer der Vergleiche True sein damit der ganze Befehl True ist.\n",
    "\n",
    "\n",
    "Es wird ja immer wieder gesagt, dass man Äpfel nicht mit Birnen vergleichen kann. Trifft das auch für Python zu oder geht hier mehr?\n",
    "Probieren wir mal folgendes aus:"
   ]
  },
  {
   "cell_type": "code",
   "execution_count": 59,
   "metadata": {
    "id": "jbE9JxfL4c9h"
   },
   "outputs": [
    {
     "ename": "TypeError",
     "evalue": "'>' not supported between instances of 'int' and 'str'",
     "output_type": "error",
     "traceback": [
      "\u001b[0;31m---------------------------------------------------------------------------\u001b[0m",
      "\u001b[0;31mTypeError\u001b[0m                                 Traceback (most recent call last)",
      "\u001b[0;32m/tmp/ipykernel_1327/3464374044.py\u001b[0m in \u001b[0;36m<module>\u001b[0;34m\u001b[0m\n\u001b[0;32m----> 1\u001b[0;31m \u001b[0;36m1\u001b[0m \u001b[0;34m>\u001b[0m \u001b[0;34m'django'\u001b[0m\u001b[0;34m\u001b[0m\u001b[0;34m\u001b[0m\u001b[0m\n\u001b[0m",
      "\u001b[0;31mTypeError\u001b[0m: '>' not supported between instances of 'int' and 'str'"
     ]
    }
   ],
   "source": [
    " 1 > 'django'"
   ]
  },
  {
   "cell_type": "markdown",
   "metadata": {
    "id": "lFM1hNNJ2BZz"
   },
   "source": [
    "Wir wir sehen hat Python hier auch Probleme und kann nicht eine Zahl (int) und einen String (str) vergleichen. Es ist ja auch nicht klar nach welchem Kriterium man einen solchen Vergleich machen würde.\n",
    "Stattdessen bekommen wir einen `TypeError` und die Meldung das wir das nicht Vergleichen können.\n",
    "\n",
    "Eine andere interessante Sache können wir lernen wenn wir annehmen, dass wir anstatt  `5 > ( 2 * 2 )` aus versehen das folgende eingegeben haben:"
   ]
  },
  {
   "cell_type": "code",
   "execution_count": 60,
   "metadata": {
    "id": "H6eBl_EPHUFA"
   },
   "outputs": [
    {
     "data": {
      "text/plain": [
       "2"
      ]
     },
     "execution_count": 60,
     "metadata": {},
     "output_type": "execute_result"
    }
   ],
   "source": [
    "( 5 > 2 ) * 2"
   ]
  },
  {
   "cell_type": "markdown",
   "metadata": {
    "id": "Q0fwOnufHh93"
   },
   "source": [
    "Wir können das Ergebnis dieses Befehls verstehen wenn wir wissen, dass Python intern die folgende Konvertierung macht:\n",
    "\n",
    "* `False` = 0\n",
    "* `True` = 1 \n",
    "\n",
    "True und False werden intern also wie Zahlen behandelt und können zum rechnen verwendet werden. Unser Fehler erzeugt also keinen Error sonder resultiert in einem ordentlichen Ergebnis. Leider vermutlich aber nicht das was wir wollten.\n",
    "Wir müssen hier also sehr vorsichtig sein!"
   ]
  },
  {
   "cell_type": "markdown",
   "metadata": {
    "id": "TlTEG07s6UkG"
   },
   "source": [
    "# Boolean variables and logic"
   ]
  },
  {
   "cell_type": "markdown",
   "metadata": {
    "id": "ZRCUdLJ86YKD"
   },
   "source": [
    "Wir haben übrigens gerade einen neuen Typ kennengelernt: Boolean or `bool`\n",
    "\n",
    "Es gibt nur 2 Boolesche Werte:\n",
    "* `True`\n",
    "* `False`\n",
    "\n",
    "Wenn wir Objekte vom Typ `bool` verwenden wollen müssen wir bei der Schreibweise aufpassen. Python versteht das nur wenn wir es genau so schreiben: also mit großem Anfangsbuchstaben und kleinem Rest.\n",
    "\n",
    "Wir können auch `bool` Variablen definieren:"
   ]
  },
  {
   "cell_type": "code",
   "execution_count": 61,
   "metadata": {
    "id": "DdzxhrJu7Cit"
   },
   "outputs": [
    {
     "data": {
      "text/plain": [
       "True"
      ]
     },
     "execution_count": 61,
     "metadata": {},
     "output_type": "execute_result"
    }
   ],
   "source": [
    "a = True\n",
    "a"
   ]
  },
  {
   "cell_type": "markdown",
   "metadata": {
    "id": "TKg_5RLo60m3"
   },
   "source": [
    "Wir können aber auch folgendes machen wenn wir möchten:"
   ]
  },
  {
   "cell_type": "code",
   "execution_count": 62,
   "metadata": {
    "id": "vrAOcDhM7DDZ"
   },
   "outputs": [
    {
     "data": {
      "text/plain": [
       "False"
      ]
     },
     "execution_count": 62,
     "metadata": {},
     "output_type": "execute_result"
    }
   ],
   "source": [
    "a = 2 > 5\n",
    "a"
   ]
  },
  {
   "cell_type": "markdown",
   "metadata": {
    "id": "lFVTQEIl6h3v"
   },
   "source": [
    "Üben wir ein bisschen und spielen etwas rum. Könnt ihr vorhersagen was die Resultate folgender Befehle sind?"
   ]
  },
  {
   "cell_type": "code",
   "execution_count": 63,
   "metadata": {
    "id": "4e1pX-nW7EK7"
   },
   "outputs": [
    {
     "data": {
      "text/plain": [
       "True"
      ]
     },
     "execution_count": 63,
     "metadata": {},
     "output_type": "execute_result"
    }
   ],
   "source": [
    "True and True"
   ]
  },
  {
   "cell_type": "code",
   "execution_count": 64,
   "metadata": {
    "id": "enTut7qJS1gS"
   },
   "outputs": [
    {
     "data": {
      "text/plain": [
       "False"
      ]
     },
     "execution_count": 64,
     "metadata": {},
     "output_type": "execute_result"
    }
   ],
   "source": [
    "False and True"
   ]
  },
  {
   "cell_type": "code",
   "execution_count": 65,
   "metadata": {
    "id": "WU2lGaaBS1T0"
   },
   "outputs": [
    {
     "data": {
      "text/plain": [
       "True"
      ]
     },
     "execution_count": 65,
     "metadata": {},
     "output_type": "execute_result"
    }
   ],
   "source": [
    "True or 1 == 1"
   ]
  },
  {
   "cell_type": "code",
   "execution_count": 66,
   "metadata": {
    "id": "TtriYyDkS1Ik"
   },
   "outputs": [
    {
     "data": {
      "text/plain": [
       "True"
      ]
     },
     "execution_count": 66,
     "metadata": {},
     "output_type": "execute_result"
    }
   ],
   "source": [
    "1 != 2"
   ]
  },
  {
   "cell_type": "markdown",
   "metadata": {
    "id": "xDGEkWlH63Ix"
   },
   "source": [
    "Herzlichen Glückwunsch! Boolesche Variablen sind mit die Wichtigsten und coolsten Konzepte beim Programmieren und wir haben gerade verstanden wie das Funktioniert! \n"
   ]
  },
  {
   "cell_type": "markdown",
   "metadata": {
    "id": "MtBfWrsJ7RiS"
   },
   "source": [
    "# Conditional statements (Bedingungen)\n"
   ]
  },
  {
   "cell_type": "markdown",
   "metadata": {
    "id": "WhaGghGv7b-S"
   },
   "source": [
    "Oftmals sollen Dinge nur passieren wenn bestimmte Bedingungen (conditions) erfüllt sind. \n",
    "\n",
    "Daher gibt es in Python etwas das `if` *statement* genannt wird:\n",
    "\n",
    "Versuchen wir mal folgendes"
   ]
  },
  {
   "cell_type": "code",
   "execution_count": 67,
   "metadata": {
    "id": "Q8tDmq4m7tze"
   },
   "outputs": [
    {
     "ename": "SyntaxError",
     "evalue": "unexpected EOF while parsing (2958156169.py, line 1)",
     "output_type": "error",
     "traceback": [
      "\u001b[0;36m  File \u001b[0;32m\"/tmp/ipykernel_1327/2958156169.py\"\u001b[0;36m, line \u001b[0;32m1\u001b[0m\n\u001b[0;31m    if 3 > 2:\u001b[0m\n\u001b[0m             ^\u001b[0m\n\u001b[0;31mSyntaxError\u001b[0m\u001b[0;31m:\u001b[0m unexpected EOF while parsing\n"
     ]
    }
   ],
   "source": [
    " if 3 > 2:"
   ]
  },
  {
   "cell_type": "markdown",
   "metadata": {
    "id": "VPO4aukJ7qqU"
   },
   "source": [
    "Python erwartet hier, dass wir weitere Anweisungen geben, die nur dann ausgeführt werden wenn die Bedingung `3 > 2` True ist. Versuchen wir das mal mit einem einfachen print"
   ]
  },
  {
   "cell_type": "code",
   "execution_count": 68,
   "metadata": {
    "id": "hoCPGCjb8udc"
   },
   "outputs": [
    {
     "name": "stdout",
     "output_type": "stream",
     "text": [
      "It works!\n"
     ]
    }
   ],
   "source": [
    "if 3 > 2:\n",
    "    print('It works!')"
   ]
  },
  {
   "cell_type": "markdown",
   "metadata": {
    "id": "bBMOR6CcTDYr"
   },
   "source": [
    "Habt ihr bemerkt, dass wir die 2. Zeile Code um 4 Leerzeichen eingerückt haben?\n",
    "Das müssen wir machen damit Python versteht welchen Code es ausführen soll wenn das Ergebnis des `if` statements True ist.\n",
    "Man kann im Prinzip auch nur ein Leerzeichen verwenden. Aber fast alle Pythonprogrammierer verwenden 4 damit es schöner aussieht. (In manchen Editoren die zum Programmieren verwendet werden kann man auch einstellen dass ein Tab eine bestimmte Anzahl leerzeichen sind wodurch man dann auch die Tab Taste zum einrücken verwenden kann)\n",
    "Wenn ihr euch entschieden habt wie viele Einrückungen ihr machen wollt, solltent ihr das überall so machen und nicht ändern. Ansonsten kann es verwirrend werden oder zu komplexen Problemen führen!"
   ]
  },
  {
   "cell_type": "markdown",
   "metadata": {
    "id": "KuVha8VZAfMl"
   },
   "source": [
    "# Was wenn eine Bedingung nicht True ist?"
   ]
  },
  {
   "cell_type": "markdown",
   "metadata": {
    "id": "brmcKW__Ainp"
   },
   "source": [
    "Im obigen Beispiel wurde der Code nur ausgeführt wenn die Bedingung True ist. \n",
    "Wir können aber auch Anweisungen geben was passiert wenn das nicht der Fall ist.\n",
    "Hierfür hat Python ein `elif` und ein `else` statement.\n",
    "\n",
    "Schauen wir mal was passiert wenn wir folgendes machen:"
   ]
  },
  {
   "cell_type": "code",
   "execution_count": 69,
   "metadata": {
    "id": "mOpZDuC9ENtS"
   },
   "outputs": [
    {
     "name": "stdout",
     "output_type": "stream",
     "text": [
      "5 is indeed greater than 2\n"
     ]
    }
   ],
   "source": [
    "if 5 > 2:\n",
    "    print('5 is indeed greater than 2')\n",
    "else:\n",
    "    print('5 is not greater than 2')"
   ]
  },
  {
   "cell_type": "markdown",
   "metadata": {
    "id": "qvei2WD2EVc6"
   },
   "source": [
    "Falls 2 größer als 5 wäre würde der `else` Fall greifen und der zweite Befehl würde ausgeführt werden. Versucht mal die Bedingung zu ändern so das das passiert!"
   ]
  },
  {
   "cell_type": "code",
   "execution_count": 71,
   "metadata": {
    "id": "FVTsWqSgA2iD"
   },
   "outputs": [
    {
     "name": "stdout",
     "output_type": "stream",
     "text": [
      "Raspberry Pi\n"
     ]
    }
   ],
   "source": [
    "if 2>5:\n",
    "    print('UNI Hamburg')\n",
    "else:\n",
    "    print('Raspberry Pi')"
   ]
  },
  {
   "cell_type": "markdown",
   "metadata": {
    "id": "lCa5OcisA3EQ"
   },
   "source": [
    "Jetzt schauen wir mal wie `elif` funktioniert."
   ]
  },
  {
   "cell_type": "code",
   "execution_count": 72,
   "metadata": {
    "id": "LsqnSNB3BQkn"
   },
   "outputs": [
    {
     "name": "stdout",
     "output_type": "stream",
     "text": [
      "Hey Sonja!\n"
     ]
    }
   ],
   "source": [
    "name = 'Sonja'\n",
    "if name == 'Ola':\n",
    "    print('Hey Ola!')\n",
    "elif name == 'Sonja':\n",
    "    print('Hey Sonja!')\n",
    "else:\n",
    "    print('Hey anonymous!')"
   ]
  },
  {
   "cell_type": "markdown",
   "metadata": {
    "id": "LQTEuNmGBRCw"
   },
   "source": [
    "Seht ihr was hier passiert? Mit `elif` können wir extra Bedingungen einbauen die abgefragt werden wenn die vorherigen Bedingungen nicht erfüllt sind.\n",
    "\n",
    "Wir können das so oft machen wir wir wollen, wie im folgenden Beispiel gezeigt ist.\n"
   ]
  },
  {
   "cell_type": "code",
   "execution_count": 73,
   "metadata": {
    "id": "tiIeIZ6GEuI_"
   },
   "outputs": [
    {
     "name": "stdout",
     "output_type": "stream",
     "text": [
      "Perfect, I can hear all the details\n"
     ]
    }
   ],
   "source": [
    "volume = 57\n",
    "if volume < 20:\n",
    "    print(\"It's kinda quiet.\")\n",
    "elif 20 <= volume < 40:\n",
    "    print(\"It's nice for background music\")\n",
    "elif 40 <= volume < 60:\n",
    "    print(\"Perfect, I can hear all the details\")\n",
    "elif 60 <= volume < 80:\n",
    "    print(\"Nice for parties\")\n",
    "elif 80 <= volume < 100:\n",
    "    print(\"A bit loud!\")\n",
    "else:\n",
    "    print(\"My ears are hurting! :(\")"
   ]
  },
  {
   "cell_type": "markdown",
   "metadata": {
    "id": "CKNhO-tcE1HY"
   },
   "source": [
    "        \n",
    "Python geht nacheinander durch jede Bedingung bis es eine findet die True ist oder der `else` Fall eintrifft.\n",
    "\n",
    "Eine Sache noch: Man kann solche `if` `else` Statements auch eineinder schachteln. Dann muss man die Einrückungen entsprechend *addieren*.\n",
    "Also Beispiel:"
   ]
  },
  {
   "cell_type": "code",
   "execution_count": 74,
   "metadata": {
    "id": "SPa31zJj1S9C"
   },
   "outputs": [
    {
     "name": "stdout",
     "output_type": "stream",
     "text": [
      "first if\n",
      "first if, second else\n"
     ]
    }
   ],
   "source": [
    "if 2>1:\n",
    "    print(\"first if\")\n",
    "    if 3>4:\n",
    "        print(\"first if, second if\")\n",
    "    else:\n",
    "        print(\"first if, second else\")\n",
    "else:\n",
    "    print(\"first else\")        "
   ]
  },
  {
   "cell_type": "markdown",
   "metadata": {
    "id": "HUFKQQ-0BwkH"
   },
   "source": [
    "# Kommentare"
   ]
  },
  {
   "cell_type": "markdown",
   "metadata": {
    "id": "do8rL4BxB1i1"
   },
   "source": [
    "Kommentare sind Zeilen die mit `#` anfangen. In solchen Zeilen können wir schreiben was wir wollen und Python wird es einfach ignorieren.\n",
    "\n",
    "Das ist sehr nützlich um den Code verständlicher zu machen. Nicht nur für andere sonder auch für unsere zukünftigen Ichs.\n",
    "\n",
    "Das sieht zum Beispiel so aus:\n",
    "\n"
   ]
  },
  {
   "cell_type": "code",
   "execution_count": 75,
   "metadata": {
    "id": "ctGKq_BZCd-e"
   },
   "outputs": [],
   "source": [
    "# Change the volume if it's too loud or too quiet\n",
    "if volume < 20 or volume > 80:\n",
    "    volume = 50\n",
    "    print(\"That's better!\")"
   ]
  },
  {
   "cell_type": "markdown",
   "metadata": {
    "id": "aC1_UTzhCys7"
   },
   "source": [
    "Ihr braucht nicht für jede Zeile Code einen Kommentar schreiben. Aber sie sind sehr nützlich um zu beschreiben warum euer code etwas tut oder um ein großes Stück Code zusammenzufassen das z.B. etwas sehr komplexes tut."
   ]
  },
  {
   "cell_type": "markdown",
   "metadata": {
    "id": "e4cix_ZhB87U"
   },
   "source": [
    "## Zusammenfassung"
   ]
  },
  {
   "cell_type": "markdown",
   "metadata": {
    "id": "EBEWNOhvB_zv"
   },
   "source": [
    "Seit der letzten Zusammenfassung haben wir viele coole Dinge gelernt:\n",
    "\n",
    "* Vergleiche – wir können Dinge vergleichen indem wir die  `>`, `>=,` `==`, `<=`, `<` und `and`, `or` Operatoren verwenden. \n",
    "* Booleans – Ein Typ `bool` der nur 2 Werte annehmen kann und intern wie Zahlen verwendet wird: `True` (1) or `False` (0)\n",
    "* `if`… `elif`… `else` – statements mit denen wir steuern können was unter welchen Bedingungen passiert\n",
    "* Kommentare - Zeilen die Python ignoriert und die wir zum Eklären unseres Codes verwenden können\n",
    "\n",
    "Jetzt wissen wir schon sehr viel. Aber ein paar Dinge brauchen wir noch bevor wir mit dem Maschinellen Lernen anfangen können."
   ]
  },
  {
   "cell_type": "markdown",
   "metadata": {
    "id": "wyaYAkAWCQgL"
   },
   "source": [
    "# Funktionen"
   ]
  },
  {
   "cell_type": "markdown",
   "metadata": {
    "id": "-vAeW4KHC7Wh"
   },
   "source": [
    "Funktionen hatten wir bereits kennengelernt, z.B. die `len()` Funktion.\n",
    "Großartigerweise müssen wir nicht alle Funktionen die es bis jetzt schon gibt kennen und können einfach unsere eigenen entwickeln!\n",
    "\n",
    "Eine Funktion ist einfach eine Abfolge von Anweisungen, also ein Stück Code, die Python ausführen soll wenn wir die Funktion aufrufen.\n",
    "Um eine Funktion zu definieren verwenden wir das keyword `def`, geben der Funktion einen Namen und sagen welche Parameter die Funktion entgegen nimmt.\n",
    "\n",
    "Schauen wir uns mal ein einfaches Beispiel an und definieren eine Funktion namens `hi()` die keine Parameter hat:"
   ]
  },
  {
   "cell_type": "code",
   "execution_count": 76,
   "metadata": {
    "id": "MLfoMAzMDLuI"
   },
   "outputs": [
    {
     "name": "stdout",
     "output_type": "stream",
     "text": [
      "Hi there!\n",
      "How are you?\n"
     ]
    }
   ],
   "source": [
    "def hi():\n",
    "    print('Hi there!')\n",
    "    print('How are you?')\n",
    "\n",
    "hi()"
   ]
  },
  {
   "cell_type": "markdown",
   "metadata": {
    "id": "ygjAYy5sDMIE"
   },
   "source": [
    "Okay, hier haben wir unsere erste Funktion.\n",
    "\n",
    "Euch ist bestimmt aufgefallen, dass die beiden Print Zeilen nach der `def` Zeile eingerückt sind. Damit sagen wir Python was alles zur Funktion gehört. Sobald ihr eine Zeile schreibt die wieder auf dem gleichen Level ist wie das `def` betrachtet Python die Funktion als beendet.\n",
    "\n",
    "Warum haben wir die Funktion am Ende nochmal aufgerufen?\n",
    "Das ist deshalb so da Python den Code von oben nach unten ausführt. Zuerst wird die Funktion also definiert und dann wird sie ausgeführt. Das muss nicht direkt hintereinander passieren. Wir könnten auch 100 Zeilen anderen Code dazwischen haben. Und wir können die Funktion auch mehrfach aufrufen.\n",
    "Üblicherweis definiert man alle Funktionen ganz am Anfang (oder in extra Dateien die Module genannt werden).\n",
    "\n",
    "\n",
    "\n"
   ]
  },
  {
   "cell_type": "markdown",
   "metadata": {
    "id": "5jFCFfiTJGpw"
   },
   "source": [
    "Falls eure Funktionen nicht funktionieren: Keine Panik.\n",
    "Falls ihr eine Fehlermeldung bekommt, könnte die Hilfreich sein:\n",
    "\n",
    "* Ein `NameError` bedeutet dass ihr vermutlich etwas falsch geschrieben habt, schaut also ob die Funktion mit dem richtigen Namen aufruft\n",
    "* Ein `IndentationError` weist euch darauf hin, dass etwas mit den Einrückungen nicht stimmt. Python will das alles innerhalb einer Funktion richtig eingerückt ist.\n",
    "* Falls es überhaupt keine Ausgabe gibt, prüft das der Funktionsaufruf richtig eingerückt ist"
   ]
  },
  {
   "cell_type": "markdown",
   "metadata": {
    "id": "9-zIuoN5Ji6_"
   },
   "source": [
    "Als nächstes bauen wir uns eine Funktion die Parameter (oder auch Argumente genannt) entgegen nimmt. Dazu wandeln wir das vorherige Beispiel etwas. Wir wollen jetzt, dass die Funktion einen Namen nimmt und die Person beim Namen grüßt falls sie bekannt ist."
   ]
  },
  {
   "cell_type": "code",
   "execution_count": 77,
   "metadata": {
    "id": "xUhrkhGwKc0o"
   },
   "outputs": [
    {
     "ename": "TypeError",
     "evalue": "hi() missing 1 required positional argument: 'name'",
     "output_type": "error",
     "traceback": [
      "\u001b[0;31m---------------------------------------------------------------------------\u001b[0m",
      "\u001b[0;31mTypeError\u001b[0m                                 Traceback (most recent call last)",
      "\u001b[0;32m/tmp/ipykernel_1327/1497114219.py\u001b[0m in \u001b[0;36m<module>\u001b[0;34m\u001b[0m\n\u001b[1;32m      6\u001b[0m     \u001b[0;32melse\u001b[0m\u001b[0;34m:\u001b[0m\u001b[0;34m\u001b[0m\u001b[0;34m\u001b[0m\u001b[0m\n\u001b[1;32m      7\u001b[0m         \u001b[0mprint\u001b[0m\u001b[0;34m(\u001b[0m\u001b[0;34m'Hi anonymous!'\u001b[0m\u001b[0;34m)\u001b[0m\u001b[0;34m\u001b[0m\u001b[0;34m\u001b[0m\u001b[0m\n\u001b[0;32m----> 8\u001b[0;31m \u001b[0mhi\u001b[0m\u001b[0;34m(\u001b[0m\u001b[0;34m)\u001b[0m\u001b[0;34m\u001b[0m\u001b[0;34m\u001b[0m\u001b[0m\n\u001b[0m\u001b[1;32m      9\u001b[0m \u001b[0;34m\u001b[0m\u001b[0m\n\u001b[1;32m     10\u001b[0m \u001b[0;31m# Denkt daran die Einrückungen richtig zu machen. Hier ist die print Funktion gegenüber dem if eingerückt, welches wiederum gegenüber dem def eingerückt ist.\u001b[0m\u001b[0;34m\u001b[0m\u001b[0;34m\u001b[0m\u001b[0;34m\u001b[0m\u001b[0m\n",
      "\u001b[0;31mTypeError\u001b[0m: hi() missing 1 required positional argument: 'name'"
     ]
    }
   ],
   "source": [
    "def hi(name):\n",
    "    if name == 'Ola':\n",
    "        print('Hi Ola!')\n",
    "    elif name == 'Sonja':\n",
    "        print('Hi Sonja!')\n",
    "    else:\n",
    "        print('Hi anonymous!')\n",
    "hi()\n",
    "\n",
    "# Denkt daran die Einrückungen richtig zu machen. Hier ist die print Funktion gegenüber dem if eingerückt, welches wiederum gegenüber dem def eingerückt ist."
   ]
  },
  {
   "cell_type": "markdown",
   "metadata": {
    "id": "x4POR3oQKmPY"
   },
   "source": [
    "Oh nein wir bekommen einen Error. Glücklicherweise können wir den verstehen.Anscheinend will die Funktion  `hi()` (also die, die wir definiert haben) mit einem Argument namens `name` aufgerufen werden. Das hatten wir hier vergessen.\n",
    "Richtig geht das also so:"
   ]
  },
  {
   "cell_type": "code",
   "execution_count": 78,
   "metadata": {
    "id": "Nmlw4b8HLk-i"
   },
   "outputs": [
    {
     "name": "stdout",
     "output_type": "stream",
     "text": [
      "Hi Ola!\n"
     ]
    }
   ],
   "source": [
    "hi(\"Ola\")"
   ]
  },
  {
   "cell_type": "markdown",
   "metadata": {
    "id": "u-MmZTgcLnHB"
   },
   "source": [
    "Und wenn wir den Namen ändern?"
   ]
  },
  {
   "cell_type": "code",
   "execution_count": 79,
   "metadata": {
    "id": "VxJK6bSgLrqO"
   },
   "outputs": [
    {
     "name": "stdout",
     "output_type": "stream",
     "text": [
      "Hi Sonja!\n"
     ]
    }
   ],
   "source": [
    "hi(\"Sonja\")"
   ]
  },
  {
   "cell_type": "markdown",
   "metadata": {
    "id": "3WEJJ5mfLr_H"
   },
   "source": [
    "Was denkt ihr passiert wenn wir weder Ola noch Sonja übergeben? Probiert es aus!"
   ]
  },
  {
   "cell_type": "code",
   "execution_count": 80,
   "metadata": {
    "id": "UBU1VKZhL1VY"
   },
   "outputs": [
    {
     "name": "stdout",
     "output_type": "stream",
     "text": [
      "Hi anonymous!\n"
     ]
    }
   ],
   "source": [
    "hi(\"\")"
   ]
  },
  {
   "cell_type": "markdown",
   "metadata": {
    "id": "ks4w-8tjL1vT"
   },
   "source": [
    "Es sollte das hier ausgeben oder?\n",
    "\n",
    "    Hi anonymous!"
   ]
  },
  {
   "cell_type": "markdown",
   "metadata": {
    "id": "KvU52d5SJyGV"
   },
   "source": [
    "So weit so gut. Wenn wir alles richtig gemacht haben sollte die Funktion mit jedem Namen klarkommen den wir übergeben.\n",
    "Wir müssen daher nicht jedes mal eine neue Zeile Code schreiben wenn wir jemanden grüßen wollen.\n",
    "Und das ist genau wozu wir Funktionen brauchen: wir wollen immer vermeiden Code mehrmals zu schreiben!\n",
    "\n",
    "Aber was machen wir wenn wir wollen, dass nicht nur Sonja und Ola mit ihrem Namen gegrüßt werden? Wir könnten entweder alle möglichen Namen mit einer if-else Struktur behandeln oder wir machen etwas raffinierteres.\n",
    "Ändern wir die Funktion so, dass wir den Text der geprintet wird aus dem übergebenen Namen erstellen:\n"
   ]
  },
  {
   "cell_type": "code",
   "execution_count": 81,
   "metadata": {
    "id": "PcJpuoFyJr_N"
   },
   "outputs": [
    {
     "name": "stdout",
     "output_type": "stream",
     "text": [
      "Hi Rachel!\n"
     ]
    }
   ],
   "source": [
    "def hi(name):\n",
    "    print('Hi ' + name + '!')\n",
    "\n",
    "hi(\"Rachel\")"
   ]
  },
  {
   "cell_type": "markdown",
   "metadata": {
    "id": "oFn0rnqdJma8"
   },
   "source": [
    "Herzlichen Glückwunsch! Ihr habt nun gelernt wie man Funktionen schreibt."
   ]
  },
  {
   "cell_type": "markdown",
   "metadata": {
    "id": "fnWTElxuMGVn"
   },
   "source": [
    "# Schleifen (Loops)"
   ]
  },
  {
   "cell_type": "markdown",
   "metadata": {
    "id": "Yva7LI1eMKsk"
   },
   "source": [
    "Programmierer hassen es sich zu wiederholen. Der ganze Sinn im Programmieren liegt ja darin Dinge zu automatisieren. Wir hatten ja gerade gesehen, dass man Funktionen verwenden kann um Code zu schreiben der mehrmals verwendet werden kann.\n",
    "\n",
    "Als nächstes werden wir lernen wie man Schleifen verwenden kann um Code, z.B. Funktionen auch tatsächlich mehrmals auszuführen!\n",
    "\n",
    "Erinnert ihr euch noch an die Listen? Nehmen wir mal eine Liste von Namen:"
   ]
  },
  {
   "cell_type": "code",
   "execution_count": 82,
   "metadata": {
    "id": "9SJ14J5WMS70"
   },
   "outputs": [],
   "source": [
    "girls = ['Rachel', 'Monica', 'Phoebe', 'Ola', 'You']"
   ]
  },
  {
   "cell_type": "markdown",
   "metadata": {
    "id": "gNBxlen-MTNX"
   },
   "source": [
    "Wir wollen jetzt alle diese Mädchen grüßen. Dazu verwenden wir die vorher definierte `hi` Funktion und eine Schleife über die Liste `girls`"
   ]
  },
  {
   "cell_type": "code",
   "execution_count": 83,
   "metadata": {
    "id": "1Reqb1JQMngt"
   },
   "outputs": [
    {
     "name": "stdout",
     "output_type": "stream",
     "text": [
      "Hi Rachel!\n",
      "Next girl\n",
      "Hi Monica!\n",
      "Next girl\n",
      "Hi Phoebe!\n",
      "Next girl\n",
      "Hi Ola!\n",
      "Next girl\n",
      "Hi You!\n",
      "Next girl\n"
     ]
    }
   ],
   "source": [
    "for name in girls:\n",
    "    hi(name)\n",
    "    print('Next girl')"
   ]
  },
  {
   "cell_type": "markdown",
   "metadata": {
    "id": "WXJw5KZQMv3O"
   },
   "source": [
    "Der `for` Befehl verhält sich ähnlich wie das `of`: Der Code unterhalb muss eingerückt sein."
   ]
  },
  {
   "cell_type": "markdown",
   "metadata": {
    "id": "VKkbLMpWM2U3"
   },
   "source": [
    "Wir ihr sehen könnt wird alles was wir unterhalb und eingerückt schreiben von Python als innerhalb der Schleife erkannt und für jedes Element in der Liste `girls` wiederholt.\n",
    "\n",
    "Wir können auch Zahlen verwenden um die Schleifendurchläufe zu steuern:"
   ]
  },
  {
   "cell_type": "code",
   "execution_count": 84,
   "metadata": {
    "id": "DQAL0714M5OJ"
   },
   "outputs": [
    {
     "name": "stdout",
     "output_type": "stream",
     "text": [
      "1\n",
      "2\n",
      "3\n",
      "4\n",
      "5\n"
     ]
    }
   ],
   "source": [
    "for i in range(1, 6):\n",
    "    print(i)"
   ]
  },
  {
   "cell_type": "markdown",
   "metadata": {
    "id": "xRGWCoIYM9XR"
   },
   "source": [
    "Hier verwenden wir die `range` Funktion die eine Liste von aufeinanderfolgenden Nummern zwischen einer ersten und letzten erzeugt. \n",
    "Beachtet, dass die 2. der Zahlen nicht in der erzeugten Liste enthalten ist. Das heißt dass `range(1,6)` von 1 bis 5 zählt! Man sagt auch dass range *halboffen* ist.\n"
   ]
  },
  {
   "cell_type": "markdown",
   "metadata": {
    "id": "fvcAMW8tNDbs"
   },
   "source": [
    "# Zusammenfassung\n",
    "\n",
    "So das wars. Great Job!\n",
    "\n",
    "Ihr wisst jetzt hoffentlich sehr viel mehr über Python als vorher. \n",
    "\n",
    "Mehr zu Python könnt ihr übrigens im offiziellen Tutorial lernen [here](https://docs.python.org/3/tutorial/). "
   ]
  },
  {
   "cell_type": "code",
   "execution_count": null,
   "metadata": {
    "id": "iq8mvd2B8pTT"
   },
   "outputs": [],
   "source": []
  }
 ],
 "metadata": {
  "colab": {
   "collapsed_sections": [],
   "name": "02_Exercise1_Python_de.ipynb",
   "provenance": []
  },
  "kernelspec": {
   "display_name": "Python 3 (ipykernel)",
   "language": "python",
   "name": "python3"
  },
  "language_info": {
   "codemirror_mode": {
    "name": "ipython",
    "version": 3
   },
   "file_extension": ".py",
   "mimetype": "text/x-python",
   "name": "python",
   "nbconvert_exporter": "python",
   "pygments_lexer": "ipython3",
   "version": "3.7.3"
  }
 },
 "nbformat": 4,
 "nbformat_minor": 4
}
