{
 "cells": [
  {
   "cell_type": "code",
   "execution_count": null,
   "id": "2e98a3be-55c5-4807-b952-e0888616185b",
   "metadata": {},
   "outputs": [],
   "source": [
    "from sense_hat import SenseHat\n"
   ]
  },
  {
   "cell_type": "code",
   "execution_count": null,
   "id": "d7b04d88-7bb1-4624-8324-3b6956bdd91a",
   "metadata": {},
   "outputs": [],
   "source": [
    "sense = SenseHat()\n",
    "sense.set_rotation(180)\n",
    "sense.low_light = False\n"
   ]
  },
  {
   "cell_type": "code",
   "execution_count": null,
   "id": "9589c3c9-f1be-4e5b-8cd1-835cc5511847",
   "metadata": {},
   "outputs": [],
   "source": [
    "from farben import *\n"
   ]
  },
  {
   "cell_type": "code",
   "execution_count": null,
   "id": "356ddca4-70bf-47ca-b361-4ad3287199d8",
   "metadata": {},
   "outputs": [],
   "source": [
    "hund_pixels = [\n",
    "    a, b, a, a, b, a, a, a,\n",
    "    a, h, h, h, h, a, a, b,\n",
    "    a, w, h, w, h, a, a, b,\n",
    "    b, h, h, h, h, h, h, h,\n",
    "    h, h, h, h, h, h, h, h, \n",
    "    a, a, h, h, h, b, h, h,\n",
    "    a, a, b, a, h, a, b, h,\n",
    "    a, a, b, a, h, a, b, h,\n",
    "]\n"
   ]
  },
  {
   "cell_type": "code",
   "execution_count": null,
   "id": "536091dc-2046-4e75-a411-90978e9fe411",
   "metadata": {},
   "outputs": [],
   "source": [
    "kuh_pixels = [\n",
    "    a, g, g, g, g, g, g, a,\n",
    "    a, a, a, g, g, a, a, a,\n",
    "    g, h, h, h, h, h, h, g,\n",
    "    h, h, c, h, h, c, h, h,\n",
    "    g, h, h, h, h, h, h, g, \n",
    "    g, h, h, h, h, h, h, g,\n",
    "    g, g, b, a, a, b, g, g,\n",
    "    g, g, a, a, a, a, g, g,\n",
    "]\n",
    "\n",
    "kuh1_pixels = [\n",
    "    a, g, g, g, g, g, g, a,\n",
    "    a, a, a, g, g, a, a, a,\n",
    "    g, h, h, h, h, h, h, g,\n",
    "    h, h, h, h, h, h, h, h,\n",
    "    g, h, h, h, h, h, h, g, \n",
    "    g, h, h, h, h, h, h, g,\n",
    "    g, g, b, a, a, b, g, g,\n",
    "    g, g, a, a, a, a, g, g,\n",
    "]"
   ]
  },
  {
   "cell_type": "code",
   "execution_count": null,
   "id": "5485bd5b-4325-4157-a839-2f18b43e5770",
   "metadata": {},
   "outputs": [],
   "source": [
    "herz_pixels = [\n",
    "    a, a, a, a, a, a, a, a,\n",
    "    a, r, r, a, a, r, r, a,\n",
    "    r, a, a, r, r, a, a, r,\n",
    "    r, a, a, a, a, a, a, r,\n",
    "    r, a, a, a, a, a, a, r, \n",
    "    a, r, a, a, a, a, r, a,\n",
    "    a, a, r, a, a, r, a, a,\n",
    "    a, a, a, r, r, a, a, a,\n",
    "]"
   ]
  },
  {
   "cell_type": "code",
   "execution_count": null,
   "id": "37aeab08-9dd9-4c48-8496-8219348259e9",
   "metadata": {},
   "outputs": [],
   "source": [
    "pilz_pixels = [\n",
    "    b, b, b, b, b, b, b, b,\n",
    "    b, b, r, r, a, r, b, b,\n",
    "    b, l, r, r, r, r, r, b,\n",
    "    b, l, r, a, r, r, r, b,\n",
    "    b, l, r, r, r, r, a, b, \n",
    "    b, l, l, l, l, l, l, b,\n",
    "    b, b, b, h, a, b, b, b,\n",
    "    b, b, b, h, a, b, b, b,\n",
    "]\n",
    "\n",
    "\n",
    "huhn_pixels = [\n",
    "    b, b, b, b, b, b, b, b,\n",
    "    b, b, b, b, b, a, r, b,\n",
    "    b, b, b, b, a, a, a, b,\n",
    "    b, a, a, a, a, a, a, b,\n",
    "    b, b, a, a, a, a, a, b,\n",
    "    b, b, b, a, a, a, b, b,\n",
    "    b, b, b, b, y, b, b, b,\n",
    "    b, b, b, b, b, b, b, b,\n",
    "]"
   ]
  },
  {
   "cell_type": "code",
   "execution_count": null,
   "id": "3566ab6d-983c-4d4e-8e01-1991295b20ce",
   "metadata": {},
   "outputs": [],
   "source": [
    "import frosch\n",
    "import kuh\n",
    "\n",
    "while True:\n",
    "    events = sense.stick.get_events()\n",
    "    if len(events)>0:\n",
    "        if events[0].direction == 'up' and events[0].action == 'pressed':\n",
    "            frosch.animate_frog(sense,2)\n",
    "        if events[0].direction == 'down' and events[0].action == 'pressed':\n",
    "            sense.set_pixels(huhn_pixels)\n",
    "        if events[0].direction == 'left' and events[0].action == 'pressed':\n",
    "            sense.set_pixels(pilz_pixels)\n",
    "        if events[0].direction == 'right' and events[0].action == 'pressed':\n",
    "            kuh.animate_kuh(sense,2)\n",
    "\n"
   ]
  },
  {
   "cell_type": "code",
   "execution_count": null,
   "id": "5dc319ec-3c84-4bb3-8635-ca00c3385785",
   "metadata": {},
   "outputs": [],
   "source": [
    "\n",
    "seiten = [\n",
    "    lambda x: frosch.animate_frog(x,2),\n",
    "    lambda x: x.set_pixels(huhn_pixels),\n",
    "    lambda x: kuh.animate_kuh(x,2),\n",
    "    lambda x: x.set_pixels(pilz_pixels),\n",
    "]\n",
    "\n",
    "i=0\n",
    "while True:\n",
    "    events = sense.stick.get_events()\n",
    "    if len(events)>0:\n",
    "        if events[0].direction == 'left' and events[0].action == 'pressed':\n",
    "            seiten[i](sense)\n",
    "            i+=1\n",
    "            if(i>=len(seiten)):\n",
    "                i=0\n"
   ]
  },
  {
   "cell_type": "code",
   "execution_count": null,
   "id": "f525955a-42e8-4f52-84f3-28cf3f25dd2b",
   "metadata": {},
   "outputs": [],
   "source": []
  }
 ],
 "metadata": {
  "kernelspec": {
   "display_name": "Python 3 (ipykernel)",
   "language": "python",
   "name": "python3"
  },
  "language_info": {
   "codemirror_mode": {
    "name": "ipython",
    "version": 3
   },
   "file_extension": ".py",
   "mimetype": "text/x-python",
   "name": "python",
   "nbconvert_exporter": "python",
   "pygments_lexer": "ipython3",
   "version": "3.7.3"
  }
 },
 "nbformat": 4,
 "nbformat_minor": 5
}
