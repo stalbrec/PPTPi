{
 "cells": [
  {
   "cell_type": "markdown",
   "id": "03526a6b-141e-4c5a-a2d4-51c9f8638ab6",
   "metadata": {
    "tags": []
   },
   "source": [
    "# 16x2 LCD printout\n",
    "\n",
    "Following the Instructions from https://pimylifeup.com/raspberry-pi-lcd-16x2/\n",
    "\n",
    "![circuit-diagram](https://cdn.pimylifeup.com/wp-content/uploads/2016/09/Raspberry-Pi-LCD-16x2-Circuit-Diagram-v1.png)\n",
    "\n"
   ]
  },
  {
   "cell_type": "code",
   "execution_count": 3,
   "id": "fc7f2e31-c0db-4586-b9ac-95ea3a6877ad",
   "metadata": {},
   "outputs": [],
   "source": [
    "from RPLCD import CharLCD\n",
    "from RPi import GPIO\n"
   ]
  },
  {
   "cell_type": "code",
   "execution_count": null,
   "id": "b83e86e2-6802-4630-ba7c-ee7fbb6ee5f8",
   "metadata": {},
   "outputs": [],
   "source": []
  },
  {
   "cell_type": "code",
   "execution_count": 4,
   "id": "b6f70ff0-1cfd-4334-8087-16b7a41277c8",
   "metadata": {},
   "outputs": [
    {
     "name": "stderr",
     "output_type": "stream",
     "text": [
      "/home/pi/PPT-env/lib/python3.7/site-packages/RPLCD/gpio.py:149: RuntimeWarning: This channel is already in use, continuing anyway.  Use GPIO.setwarnings(False) to disable warnings.\n",
      "  GPIO.setup(pin, GPIO.OUT)\n"
     ]
    }
   ],
   "source": [
    "lcd = CharLCD(numbering_mode=GPIO.BCM,\n",
    "              cols = 16,\n",
    "              rows = 2,\n",
    "              pin_rs = 25, pin_e = 24,\n",
    "              pins_data = [23,17,18,22],\n",
    "              pin_backlight=4\n",
    "             )"
   ]
  },
  {
   "cell_type": "code",
   "execution_count": 5,
   "id": "7aa35168-7033-468f-bd79-6b1d2ee3c26b",
   "metadata": {},
   "outputs": [],
   "source": [
    "lcd.write_string(u\"Physik-Projekt- Tage 2022!\")\n"
   ]
  },
  {
   "cell_type": "code",
   "execution_count": 4,
   "id": "55403930-ee7e-4dcb-8756-076a7d0d0552",
   "metadata": {},
   "outputs": [],
   "source": [
    "smiley = (\n",
    "    0b00000,\n",
    "    0b01010,\n",
    "    0b01010,\n",
    "    0b00000,\n",
    "    0b10001,\n",
    "    0b10001,\n",
    "    0b01110,\n",
    "    0b00000,\n",
    ")\n",
    "\n",
    "#save smiley at postion 0\n",
    "lcd.create_char(0,smiley)\n",
    "\n",
    "#write smiley at current cursor position\n",
    "lcd.write(0)"
   ]
  },
  {
   "cell_type": "code",
   "execution_count": 6,
   "id": "47baf4c9-0de2-4a79-a16f-e70855c23c38",
   "metadata": {},
   "outputs": [],
   "source": [
    "lcd.clear()"
   ]
  },
  {
   "cell_type": "code",
   "execution_count": 6,
   "id": "7c3b762a-c87f-44fb-af8d-9b3b2d3479ef",
   "metadata": {},
   "outputs": [],
   "source": [
    "lcd.write_string(u\"Hello Elijah :)\")"
   ]
  },
  {
   "cell_type": "code",
   "execution_count": 7,
   "id": "ba9c0fb7-0921-45cc-acae-d3aa490db6ab",
   "metadata": {},
   "outputs": [],
   "source": [
    "l = (\n",
    "    0b00000,\n",
    "    0b01100,\n",
    "    0b01100,\n",
    "    0b01100,\n",
    "    0b01100,\n",
    "    0b01100,\n",
    "    0b01100,\n",
    "    0b01100,\n",
    ")\n",
    "\n",
    "#save smiley at postion 0\n",
    "lcd.create_char(0,l)\n",
    "\n",
    "#write smiley at current cursor position\n",
    "lcd.write(0)"
   ]
  },
  {
   "cell_type": "code",
   "execution_count": 8,
   "id": "6ae5e2af-641b-4084-96b0-f422f50c6392",
   "metadata": {},
   "outputs": [],
   "source": [
    "ll = (\n",
    "    0b00000,\n",
    "    0b00000,\n",
    "    0b00000,\n",
    "    0b00000,\n",
    "    0b00000,\n",
    "    0b00000,\n",
    "    0b00000,\n",
    "    0b00000,\n",
    ")\n",
    "\n",
    "#save smiley at postion 0\n",
    "lcd.create_char(1,ll)\n",
    "\n",
    "#write smiley at current cursor position\n",
    "lcd.write(1)"
   ]
  },
  {
   "cell_type": "code",
   "execution_count": 9,
   "id": "476d5032-adad-4420-b53a-a04a72ede0aa",
   "metadata": {},
   "outputs": [],
   "source": [
    "t = (\n",
    "    0b00000,\n",
    "    0b01111,\n",
    "    0b01111,\n",
    "    0b00001,\n",
    "    0b00001,\n",
    "    0b00001,\n",
    "    0b00001,\n",
    "    0b00001,\n",
    ")\n",
    "\n",
    "#save smiley at postion 0\n",
    "lcd.create_char(2,t)\n",
    "\n",
    "#write smiley at current cursor position\n",
    "lcd.write(2)"
   ]
  },
  {
   "cell_type": "code",
   "execution_count": 10,
   "id": "bb0ee591-8244-4d98-b361-d0cf0cc4b7c5",
   "metadata": {},
   "outputs": [],
   "source": [
    "tt = (\n",
    "    0b00000,\n",
    "    0b11110,\n",
    "    0b11110,\n",
    "    0b10000,\n",
    "    0b10000,\n",
    "    0b10000,\n",
    "    0b10000,\n",
    "    0b10000,\n",
    ")\n",
    "\n",
    "#save smiley at postion 0\n",
    "lcd.create_char(3,tt)\n",
    "\n",
    "#write smiley at current cursor position\n",
    "lcd.write(3)"
   ]
  },
  {
   "cell_type": "code",
   "execution_count": 11,
   "id": "832c130a-093c-4a7b-b8b6-6b2c87a83501",
   "metadata": {},
   "outputs": [],
   "source": [
    "z = (\n",
    "    0b00000,\n",
    "    0b01111,\n",
    "    0b01111,\n",
    "    0b00000,\n",
    "    0b00000,\n",
    "    0b00000,\n",
    "    0b00001,\n",
    "    0b00001,\n",
    ")\n",
    "\n",
    "#save smiley at postion 0\n",
    "lcd.create_char(4,z)\n",
    "\n",
    "#write smiley at current cursor position\n",
    "lcd.write(4)"
   ]
  },
  {
   "cell_type": "code",
   "execution_count": 12,
   "id": "5b1acf68-7ff5-4a0b-9d84-1a4709560861",
   "metadata": {},
   "outputs": [],
   "source": [
    "zz = (\n",
    "    0b00000,\n",
    "    0b11110,\n",
    "    0b11110,\n",
    "    0b00110,\n",
    "    0b01100,\n",
    "    0b11000,\n",
    "    0b10000,\n",
    "    0b10000,\n",
    ")\n",
    "\n",
    "#save smiley at postion 0\n",
    "lcd.create_char(5,zz)\n",
    "\n",
    "#write smiley at current cursor position\n",
    "lcd.write(5)"
   ]
  },
  {
   "cell_type": "code",
   "execution_count": 13,
   "id": "24408522-fa0a-485a-9841-5ff558b03632",
   "metadata": {},
   "outputs": [],
   "source": [
    "herzz = (\n",
    "    0b00000,\n",
    "    0b00011,\n",
    "    0b00100,\n",
    "    0b01001,\n",
    "    0b10010,\n",
    "    0b10100,\n",
    "    0b10000,\n",
    "    0b10000,\n",
    ")\n",
    "\n",
    "#save smiley at postion 0\n",
    "lcd.create_char(6,herzz)\n",
    "\n",
    "#write smiley at current cursor position\n",
    "lcd.write(6)"
   ]
  },
  {
   "cell_type": "code",
   "execution_count": 14,
   "id": "ddf97831-d002-47be-b50e-9852553c4a59",
   "metadata": {},
   "outputs": [],
   "source": [
    "herzzz = (\n",
    "    0b00000,\n",
    "    0b10001,\n",
    "    0b01010,\n",
    "    0b00100,\n",
    "    0b00000,\n",
    "    0b00000,\n",
    "    0b00000,\n",
    "    0b00000,\n",
    ")\n",
    "\n",
    "#save smiley at postion 0\n",
    "lcd.create_char(7,herzzz)\n",
    "\n",
    "#write smiley at current cursor position\n",
    "lcd.write(7)"
   ]
  },
  {
   "cell_type": "code",
   "execution_count": 51,
   "id": "41487dad-430f-48fa-abab-672ea673fe4c",
   "metadata": {},
   "outputs": [],
   "source": [
    "herzzzz = (\n",
    "    0b00000,\n",
    "    0b11000,\n",
    "    0b00100,\n",
    "    0b00010,\n",
    "    0b00001,\n",
    "    0b00001,\n",
    "    0b00001,\n",
    "    0b00001,\n",
    ")\n",
    "\n",
    "#save smiley at postion 0\n",
    "lcd.create_char(8,herzzzz)\n",
    "\n",
    "#write smiley at current cursor position\n",
    "lcd.write(8)"
   ]
  },
  {
   "cell_type": "code",
   "execution_count": 41,
   "id": "7479dc53-7ab1-450f-b735-0f60bdbe4273",
   "metadata": {},
   "outputs": [],
   "source": [
    "lcd.cursor_mode='blink'"
   ]
  },
  {
   "cell_type": "code",
   "execution_count": 56,
   "id": "5037fcba-b5ac-4e3e-a8e9-221170c290a8",
   "metadata": {},
   "outputs": [],
   "source": [
    "lcd.cursor_pos=(0,0)\n"
   ]
  },
  {
   "cell_type": "code",
   "execution_count": 57,
   "id": "0e37cfab-2c85-4a89-ac97-9dd384e1eac5",
   "metadata": {},
   "outputs": [],
   "source": [
    "lcd.write(0)"
   ]
  },
  {
   "cell_type": "code",
   "execution_count": null,
   "id": "b71275c8-e44e-4b80-8d78-3750f0a5826e",
   "metadata": {},
   "outputs": [],
   "source": []
  }
 ],
 "metadata": {
  "kernelspec": {
   "display_name": "Python 3 (ipykernel)",
   "language": "python",
   "name": "python3"
  },
  "language_info": {
   "codemirror_mode": {
    "name": "ipython",
    "version": 3
   },
   "file_extension": ".py",
   "mimetype": "text/x-python",
   "name": "python",
   "nbconvert_exporter": "python",
   "pygments_lexer": "ipython3",
   "version": "3.7.3"
  }
 },
 "nbformat": 4,
 "nbformat_minor": 5
}
