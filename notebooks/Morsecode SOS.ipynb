{
 "cells": [
  {
   "cell_type": "code",
   "execution_count": 1,
   "id": "de17d7d9-0d97-4f50-8c53-ef0383ea5429",
   "metadata": {},
   "outputs": [],
   "source": [
    "from gpiozero import LED\n",
    "import time \n",
    "red_led=LED(21)"
   ]
  },
  {
   "cell_type": "code",
   "execution_count": null,
   "id": "5d86422c-8f7a-4598-a59d-a65e6be13f80",
   "metadata": {
    "tags": []
   },
   "outputs": [],
   "source": [
    "\n",
    "while True:\n",
    "        print(\"hello\")\n",
    "        red_led.on()\n",
    "        time.sleep(0.5)\n",
    "        red_led.off()\n",
    "        time.sleep(0.5)\n",
    "        red_led.on()\n",
    "        time.sleep(0.5)\n",
    "        red_led.off()\n",
    "        time.sleep(0.5)\n",
    "        red_led.on()\n",
    "        time.sleep(0.5)\n",
    "        red_led.off()\n",
    "   \n",
    "        time.sleep(1.5)\n",
    "        red_led.on()\n",
    "        time.sleep(1.5)\n",
    "        red_led.off()\n",
    "        time.sleep(1.5)\n",
    "        red_led.on()\n",
    "        time.sleep(1.5)\n",
    "        red_led.off()\n",
    "        time.sleep(1.5)\n",
    "        red_led.on()\n",
    "        time.sleep(1.5)\n",
    "        red_led.off()\n",
    "        time.sleep(1.5)\n",
    "        red_led.on()\n",
    "        \n",
    "        \n",
    "        time.sleep(0.5)\n",
    "        red_led.off()\n",
    "        time.sleep(0.5)\n",
    "        red_led.on()\n",
    "        time.sleep(0.5)\n",
    "        red_led.off()\n",
    "        time.sleep(0.5)\n",
    "        red_led.on()\n",
    "        time.sleep(0.5)\n",
    "        red_led.off()\n",
    "        time.sleep(5)\n",
    "        \n",
    "        "
   ]
  }
 ],
 "metadata": {
  "kernelspec": {
   "display_name": "Python 3 (ipykernel)",
   "language": "python",
   "name": "python3"
  },
  "language_info": {
   "codemirror_mode": {
    "name": "ipython",
    "version": 3
   },
   "file_extension": ".py",
   "mimetype": "text/x-python",
   "name": "python",
   "nbconvert_exporter": "python",
   "pygments_lexer": "ipython3",
   "version": "3.7.3"
  }
 },
 "nbformat": 4,
 "nbformat_minor": 5
}
