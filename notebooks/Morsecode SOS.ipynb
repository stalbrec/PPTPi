{
 "cells": [
  {
   "cell_type": "code",
   "execution_count": 1,
   "id": "5d86422c-8f7a-4598-a59d-a65e6be13f80",
   "metadata": {},
   "outputs": [
    {
     "name": "stdout",
     "output_type": "stream",
     "text": [
      "hello\n",
      "hello\n",
      "hello\n",
      "hello\n",
      "hello\n",
      "hello\n",
      "hello\n",
      "hello\n",
      "hello\n",
      "hello\n",
      "hello\n",
      "hello\n",
      "hello\n",
      "hello\n",
      "hello\n",
      "hello\n",
      "hello\n",
      "hello\n"
     ]
    },
    {
     "ename": "KeyboardInterrupt",
     "evalue": "",
     "output_type": "error",
     "traceback": [
      "\u001b[0;31m---------------------------------------------------------------------------\u001b[0m",
      "\u001b[0;31mKeyboardInterrupt\u001b[0m                         Traceback (most recent call last)",
      "\u001b[0;32m/tmp/ipykernel_1825/2207274789.py\u001b[0m in \u001b[0;36m<module>\u001b[0;34m\u001b[0m\n\u001b[1;32m     27\u001b[0m         \u001b[0mtime\u001b[0m\u001b[0;34m.\u001b[0m\u001b[0msleep\u001b[0m\u001b[0;34m(\u001b[0m\u001b[0;36m1.5\u001b[0m\u001b[0;34m)\u001b[0m\u001b[0;34m\u001b[0m\u001b[0;34m\u001b[0m\u001b[0m\n\u001b[1;32m     28\u001b[0m         \u001b[0mred_led\u001b[0m\u001b[0;34m.\u001b[0m\u001b[0mon\u001b[0m\u001b[0;34m(\u001b[0m\u001b[0;34m)\u001b[0m\u001b[0;34m\u001b[0m\u001b[0;34m\u001b[0m\u001b[0m\n\u001b[0;32m---> 29\u001b[0;31m         \u001b[0mtime\u001b[0m\u001b[0;34m.\u001b[0m\u001b[0msleep\u001b[0m\u001b[0;34m(\u001b[0m\u001b[0;36m1.5\u001b[0m\u001b[0;34m)\u001b[0m\u001b[0;34m\u001b[0m\u001b[0;34m\u001b[0m\u001b[0m\n\u001b[0m\u001b[1;32m     30\u001b[0m         \u001b[0mred_led\u001b[0m\u001b[0;34m.\u001b[0m\u001b[0moff\u001b[0m\u001b[0;34m(\u001b[0m\u001b[0;34m)\u001b[0m\u001b[0;34m\u001b[0m\u001b[0;34m\u001b[0m\u001b[0m\n\u001b[1;32m     31\u001b[0m         \u001b[0mtime\u001b[0m\u001b[0;34m.\u001b[0m\u001b[0msleep\u001b[0m\u001b[0;34m(\u001b[0m\u001b[0;36m1.5\u001b[0m\u001b[0;34m)\u001b[0m\u001b[0;34m\u001b[0m\u001b[0;34m\u001b[0m\u001b[0m\n",
      "\u001b[0;31mKeyboardInterrupt\u001b[0m: "
     ]
    }
   ],
   "source": [
    "from gpiozero import LED\n",
    "import time \n",
    "\n",
    "red_led=LED(21)\n",
    "while True:\n",
    "        print(\"hello\")\n",
    "        red_led.on()\n",
    "        time.sleep(0.5)\n",
    "        red_led.off()\n",
    "        time.sleep(0.5)\n",
    "        red_led.on()\n",
    "        time.sleep(0.5)\n",
    "        red_led.off()\n",
    "        time.sleep(0.5)\n",
    "        red_led.on()\n",
    "        time.sleep(0.5)\n",
    "        red_led.off()\n",
    "   \n",
    "        time.sleep(1.5)\n",
    "        red_led.on()\n",
    "        time.sleep(1.5)\n",
    "        red_led.off()\n",
    "        time.sleep(1.5)\n",
    "        red_led.on()\n",
    "        time.sleep(1.5)\n",
    "        red_led.off()\n",
    "        time.sleep(1.5)\n",
    "        red_led.on()\n",
    "        time.sleep(1.5)\n",
    "        red_led.off()\n",
    "        time.sleep(1.5)\n",
    "        red_led.on()\n",
    "        \n",
    "        \n",
    "        time.sleep(0.5)\n",
    "        red_led.off()\n",
    "        time.sleep(0.5)\n",
    "        red_led.on()\n",
    "        time.sleep(0.5)\n",
    "        red_led.off()\n",
    "        time.sleep(0.5)\n",
    "        red_led.on()\n",
    "        time.sleep(0.5)\n",
    "        red_led.off()\n",
    "        time.sleep(5)\n",
    "        \n",
    "        "
   ]
  },
  {
   "cell_type": "code",
   "execution_count": null,
   "id": "d0acdad2-ffdc-4a22-b95b-fcce5930999c",
   "metadata": {},
   "outputs": [],
   "source": []
  }
 ],
 "metadata": {
  "kernelspec": {
   "display_name": "Python 3 (ipykernel)",
   "language": "python",
   "name": "python3"
  },
  "language_info": {
   "codemirror_mode": {
    "name": "ipython",
    "version": 3
   },
   "file_extension": ".py",
   "mimetype": "text/x-python",
   "name": "python",
   "nbconvert_exporter": "python",
   "pygments_lexer": "ipython3",
   "version": "3.7.3"
  }
 },
 "nbformat": 4,
 "nbformat_minor": 5
}
