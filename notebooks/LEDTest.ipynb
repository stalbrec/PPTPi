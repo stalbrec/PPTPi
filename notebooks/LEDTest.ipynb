{
 "cells": [
  {
   "cell_type": "code",
   "execution_count": 1,
   "id": "808734b8-9c99-40ee-8e2c-a07699fab84a",
   "metadata": {},
   "outputs": [],
   "source": [
    "from gpiozero import LED\n",
    "import time"
   ]
  },
  {
   "cell_type": "code",
   "execution_count": 2,
   "id": "f0a007d9-1e19-4306-a2b9-ffb57e90f870",
   "metadata": {},
   "outputs": [],
   "source": [
    "red_led = LED(24)\n"
   ]
  },
  {
   "cell_type": "code",
   "execution_count": 3,
   "id": "d28c3232-91fd-41af-9557-5ee2dec46d7e",
   "metadata": {},
   "outputs": [],
   "source": [
    "red_led.on()"
   ]
  },
  {
   "cell_type": "code",
   "execution_count": 4,
   "id": "3ebd188c-3977-4a3f-ad2b-9e72e08e87a0",
   "metadata": {},
   "outputs": [],
   "source": [
    "red_led.off()"
   ]
  },
  {
   "cell_type": "code",
   "execution_count": 5,
   "id": "66984eb8-3700-4d6d-a59c-f9ac3a9f388f",
   "metadata": {},
   "outputs": [],
   "source": [
    "red_led.on()"
   ]
  },
  {
   "cell_type": "code",
   "execution_count": 6,
   "id": "1eac0306-dbd3-46e8-94f5-089319473b8d",
   "metadata": {},
   "outputs": [],
   "source": [
    "yellow_led = LED(23)"
   ]
  },
  {
   "cell_type": "code",
   "execution_count": 7,
   "id": "b0971145-f805-4425-a9af-3eb4438937df",
   "metadata": {},
   "outputs": [],
   "source": [
    "yellow_led.on()"
   ]
  },
  {
   "cell_type": "code",
   "execution_count": 8,
   "id": "1f8ba08b-49c9-4c89-8250-e2fafee0593e",
   "metadata": {},
   "outputs": [],
   "source": [
    "green_led = LED(25)"
   ]
  },
  {
   "cell_type": "code",
   "execution_count": 9,
   "id": "90d987e6-c927-452a-9eec-88ec81eabc0d",
   "metadata": {},
   "outputs": [],
   "source": [
    "green_led.on()"
   ]
  },
  {
   "cell_type": "code",
   "execution_count": 14,
   "id": "173d65c2-76c0-4f92-b01b-453f85d8fc40",
   "metadata": {},
   "outputs": [
    {
     "ename": "KeyboardInterrupt",
     "evalue": "",
     "output_type": "error",
     "traceback": [
      "\u001b[0;31m---------------------------------------------------------------------------\u001b[0m",
      "\u001b[0;31mKeyboardInterrupt\u001b[0m                         Traceback (most recent call last)",
      "\u001b[0;32m/tmp/ipykernel_2124/2029006692.py\u001b[0m in \u001b[0;36m<module>\u001b[0;34m\u001b[0m\n\u001b[1;32m      4\u001b[0m     \u001b[0mgreen_led\u001b[0m\u001b[0;34m.\u001b[0m\u001b[0moff\u001b[0m\u001b[0;34m(\u001b[0m\u001b[0;34m)\u001b[0m\u001b[0;34m\u001b[0m\u001b[0;34m\u001b[0m\u001b[0m\n\u001b[1;32m      5\u001b[0m     \u001b[0myellow_led\u001b[0m\u001b[0;34m.\u001b[0m\u001b[0mon\u001b[0m\u001b[0;34m(\u001b[0m\u001b[0;34m)\u001b[0m\u001b[0;34m\u001b[0m\u001b[0;34m\u001b[0m\u001b[0m\n\u001b[0;32m----> 6\u001b[0;31m     \u001b[0mtime\u001b[0m\u001b[0;34m.\u001b[0m\u001b[0msleep\u001b[0m\u001b[0;34m(\u001b[0m\u001b[0;36m0.01\u001b[0m\u001b[0;34m)\u001b[0m\u001b[0;34m\u001b[0m\u001b[0;34m\u001b[0m\u001b[0m\n\u001b[0m\u001b[1;32m      7\u001b[0m     \u001b[0myellow_led\u001b[0m\u001b[0;34m.\u001b[0m\u001b[0moff\u001b[0m\u001b[0;34m(\u001b[0m\u001b[0;34m)\u001b[0m\u001b[0;34m\u001b[0m\u001b[0;34m\u001b[0m\u001b[0m\n\u001b[1;32m      8\u001b[0m     \u001b[0mred_led\u001b[0m\u001b[0;34m.\u001b[0m\u001b[0mon\u001b[0m\u001b[0;34m(\u001b[0m\u001b[0;34m)\u001b[0m\u001b[0;34m\u001b[0m\u001b[0;34m\u001b[0m\u001b[0m\n",
      "\u001b[0;31mKeyboardInterrupt\u001b[0m: "
     ]
    }
   ],
   "source": [
    "while True:\n",
    "    green_led.on()\n",
    "    time.sleep(0.01)\n",
    "    green_led.off()\n",
    "    yellow_led.on()\n",
    "    time.sleep(0.01)\n",
    "    yellow_led.off()\n",
    "    red_led.on()\n",
    "    time.sleep(0.01)\n",
    "    red_led.off()\n",
    "    yellow_led.on()\n",
    "    time.sleep(0.01)\n",
    "    yellow_led.off()"
   ]
  },
  {
   "cell_type": "code",
   "execution_count": null,
   "id": "f2738f2c-27f9-46c1-944a-264760c51a6e",
   "metadata": {},
   "outputs": [],
   "source": []
  }
 ],
 "metadata": {
  "kernelspec": {
   "display_name": "Python 3 (ipykernel)",
   "language": "python",
   "name": "python3"
  },
  "language_info": {
   "codemirror_mode": {
    "name": "ipython",
    "version": 3
   },
   "file_extension": ".py",
   "mimetype": "text/x-python",
   "name": "python",
   "nbconvert_exporter": "python",
   "pygments_lexer": "ipython3",
   "version": "3.7.3"
  }
 },
 "nbformat": 4,
 "nbformat_minor": 5
}
