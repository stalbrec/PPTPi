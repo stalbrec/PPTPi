{
 "cells": [
  {
   "cell_type": "code",
   "execution_count": 1,
   "id": "de29dbff-fab6-40a3-971d-cf90b3989743",
   "metadata": {},
   "outputs": [],
   "source": [
    "import sys\n",
    "sys.path.append('/home/pi/PPTPi/python')\n",
    "from sensors import TemperaturSensoren\n"
   ]
  },
  {
   "cell_type": "code",
   "execution_count": 2,
   "id": "fb58fe8e-bb40-4866-a2cd-191499cf97ea",
   "metadata": {},
   "outputs": [
    {
     "name": "stdout",
     "output_type": "stream",
     "text": [
      "[25.]\n"
     ]
    }
   ],
   "source": [
    "Ts = TemperaturSensoren()\n",
    "\n",
    "print(Ts.temps())"
   ]
  },
  {
   "cell_type": "code",
   "execution_count": null,
   "id": "582a0ae3-cc06-458a-8144-5916284fc432",
   "metadata": {},
   "outputs": [],
   "source": []
  }
 ],
 "metadata": {
  "kernelspec": {
   "display_name": "Python 3 (ipykernel)",
   "language": "python",
   "name": "python3"
  },
  "language_info": {
   "codemirror_mode": {
    "name": "ipython",
    "version": 3
   },
   "file_extension": ".py",
   "mimetype": "text/x-python",
   "name": "python",
   "nbconvert_exporter": "python",
   "pygments_lexer": "ipython3",
   "version": "3.7.3"
  }
 },
 "nbformat": 4,
 "nbformat_minor": 5
}
