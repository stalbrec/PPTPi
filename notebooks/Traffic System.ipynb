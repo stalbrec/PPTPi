{
 "cells": [
  {
   "cell_type": "code",
   "execution_count": 1,
   "id": "8840f1a3-b521-454a-ae59-75be8a07f1ea",
   "metadata": {},
   "outputs": [],
   "source": [
    "from gpiozero import LED\n",
    "import time \n",
    "\n",
    "red_led=LED(23)\n",
    "yellow_led=LED(21)\n",
    "green_led=LED(20)\n",
    "blue_led=LED(13) "
   ]
  },
  {
   "cell_type": "code",
   "execution_count": 1,
   "id": "b372362c-7aec-4be2-8e5a-aa41c17f0474",
   "metadata": {},
   "outputs": [],
   "source": [
    "t = 0.05"
   ]
  },
  {
   "cell_type": "code",
   "execution_count": 2,
   "id": "a80cca6a-5fe3-4530-b77f-2672dcfdacc4",
   "metadata": {},
   "outputs": [
    {
     "name": "stdout",
     "output_type": "stream",
     "text": [
      "red\n"
     ]
    },
    {
     "ename": "NameError",
     "evalue": "name 'red_led' is not defined",
     "output_type": "error",
     "traceback": [
      "\u001b[0;31m---------------------------------------------------------------------------\u001b[0m",
      "\u001b[0;31mNameError\u001b[0m                                 Traceback (most recent call last)",
      "\u001b[0;32m/tmp/ipykernel_2187/2928361333.py\u001b[0m in \u001b[0;36m<module>\u001b[0;34m\u001b[0m\n\u001b[1;32m      1\u001b[0m \u001b[0;32mwhile\u001b[0m \u001b[0;32mTrue\u001b[0m\u001b[0;34m:\u001b[0m\u001b[0;34m\u001b[0m\u001b[0;34m\u001b[0m\u001b[0m\n\u001b[1;32m      2\u001b[0m     \u001b[0mprint\u001b[0m\u001b[0;34m(\u001b[0m\u001b[0;34m\"red\"\u001b[0m\u001b[0;34m)\u001b[0m\u001b[0;34m\u001b[0m\u001b[0;34m\u001b[0m\u001b[0m\n\u001b[0;32m----> 3\u001b[0;31m     \u001b[0mred_led\u001b[0m\u001b[0;34m.\u001b[0m\u001b[0mon\u001b[0m\u001b[0;34m(\u001b[0m\u001b[0;34m)\u001b[0m\u001b[0;34m\u001b[0m\u001b[0;34m\u001b[0m\u001b[0m\n\u001b[0m\u001b[1;32m      4\u001b[0m     \u001b[0mtime\u001b[0m\u001b[0;34m.\u001b[0m\u001b[0msleep\u001b[0m\u001b[0;34m(\u001b[0m\u001b[0mt\u001b[0m\u001b[0;34m)\u001b[0m\u001b[0;34m\u001b[0m\u001b[0;34m\u001b[0m\u001b[0m\n\u001b[1;32m      5\u001b[0m     \u001b[0mred_led\u001b[0m\u001b[0;34m.\u001b[0m\u001b[0moff\u001b[0m\u001b[0;34m(\u001b[0m\u001b[0;34m)\u001b[0m\u001b[0;34m\u001b[0m\u001b[0;34m\u001b[0m\u001b[0m\n",
      "\u001b[0;31mNameError\u001b[0m: name 'red_led' is not defined"
     ]
    }
   ],
   "source": [
    "\n",
    "while True: \n",
    "    print(\"red\")\n",
    "    red_led.on()\n",
    "    time.sleep(t)\n",
    "    red_led.off()\n",
    "    print(\"yellow\")\n",
    "    yellow_led.on()\n",
    "    time.sleep(t)\n",
    "    yellow_led.off()\n",
    "    print(\"green\")\n",
    "    green_led.on()\n",
    "    time.sleep(t)\n",
    "    green_led.off()\n",
    "    print(\"blue\")\n",
    "    blue_led.on()\n",
    "    time.sleep(t)\n",
    "    blue_led.off()\n",
    "    \n",
    "    \n",
    "\n"
   ]
  },
  {
   "cell_type": "code",
   "execution_count": null,
   "id": "481bad8d-1c0d-4ad2-af4f-996a4ebf5ba1",
   "metadata": {},
   "outputs": [],
   "source": []
  }
 ],
 "metadata": {
  "kernelspec": {
   "display_name": "Python 3 (ipykernel)",
   "language": "python",
   "name": "python3"
  },
  "language_info": {
   "codemirror_mode": {
    "name": "ipython",
    "version": 3
   },
   "file_extension": ".py",
   "mimetype": "text/x-python",
   "name": "python",
   "nbconvert_exporter": "python",
   "pygments_lexer": "ipython3",
   "version": "3.7.3"
  }
 },
 "nbformat": 4,
 "nbformat_minor": 5
}
